{
 "cells": [
  {
   "cell_type": "markdown",
   "metadata": {},
   "source": [
    "# Sea level data -- conversion to HDF5"
   ]
  },
  {
   "cell_type": "code",
   "execution_count": 1,
   "metadata": {},
   "outputs": [],
   "source": [
    "# (from conda install netCDF4)"
   ]
  },
  {
   "cell_type": "code",
   "execution_count": 2,
   "metadata": {},
   "outputs": [],
   "source": [
    "from netCDF4 import Dataset"
   ]
  },
  {
   "cell_type": "code",
   "execution_count": 3,
   "metadata": {},
   "outputs": [],
   "source": [
    "baseline = Dataset('/home/local/barimpac/Downloads/Sea level/globalTWL_baseline.nc')"
   ]
  },
  {
   "cell_type": "code",
   "execution_count": 4,
   "metadata": {},
   "outputs": [
    {
     "data": {
      "text/plain": [
       "odict_keys(['longitude', 'latitude', 'RSLR', 'TL', 'EV', 'TWL', 'percentile'])"
      ]
     },
     "execution_count": 4,
     "metadata": {},
     "output_type": "execute_result"
    }
   ],
   "source": [
    "baseline.variables.keys()"
   ]
  },
  {
   "cell_type": "code",
   "execution_count": 5,
   "metadata": {},
   "outputs": [],
   "source": [
    "def extract_var(dataset):\n",
    "    longitude = dataset.variables['longitude'][:]\n",
    "    latitude = dataset.variables['latitude'][:]\n",
    "    rslr = dataset.variables['RSLR'][:]\n",
    "    tl = dataset.variables['TL'][:]\n",
    "    ev = dataset.variables['EV'][:]\n",
    "    twl = dataset.variables['TWL'][:]\n",
    "    percentile = dataset.variables['percentile'][:]\n",
    "    \n",
    "    return longitude, latitude, rslr, tl, ev, twl, percentile"
   ]
  },
  {
   "cell_type": "code",
   "execution_count": 6,
   "metadata": {},
   "outputs": [],
   "source": [
    "longitude, latitude, rslr, tl, ev, twl, percentile = extract_var(baseline)"
   ]
  },
  {
   "cell_type": "code",
   "execution_count": 12,
   "metadata": {},
   "outputs": [
    {
     "name": "stderr",
     "output_type": "stream",
     "text": [
      "/home/barimpac/anaconda3/lib/python3.6/site-packages/h5py/__init__.py:36: FutureWarning: Conversion of the second argument of issubdtype from `float` to `np.floating` is deprecated. In future, it will be treated as `np.float64 == np.dtype(float).type`.\n",
      "  from ._conv import register_converters as _register_converters\n"
     ]
    }
   ],
   "source": [
    "import h5py"
   ]
  },
  {
   "cell_type": "code",
   "execution_count": 24,
   "metadata": {},
   "outputs": [],
   "source": [
    "h5f = h5py.File('sea_level_baseline.h5', 'a')\n",
    "\n",
    "h5f.create_dataset('longitude', data=longitude)\n",
    "h5f.create_dataset('latitude', data=latitude)\n",
    "h5f.create_dataset('RSLR', data=rslr)\n",
    "h5f.create_dataset('TL', data=tl)\n",
    "h5f.create_dataset('EV', data=ev)\n",
    "h5f.create_dataset('TWL', data=twl)\n",
    "h5f.create_dataset('percentile', data=percentile)\n",
    "\n",
    "h5f.close()"
   ]
  },
  {
   "cell_type": "code",
   "execution_count": 28,
   "metadata": {},
   "outputs": [],
   "source": [
    "h5f = h5py.File('sea_level_baseline.h5','r')"
   ]
  },
  {
   "cell_type": "code",
   "execution_count": 30,
   "metadata": {},
   "outputs": [
    {
     "data": {
      "text/plain": [
       "['EV', 'RSLR', 'TL', 'TWL', 'latitude', 'longitude', 'percentile']"
      ]
     },
     "execution_count": 30,
     "metadata": {},
     "output_type": "execute_result"
    }
   ],
   "source": [
    "list(h5f.keys())"
   ]
  },
  {
   "cell_type": "code",
   "execution_count": 32,
   "metadata": {},
   "outputs": [
    {
     "data": {
      "text/plain": [
       "(20865,)"
      ]
     },
     "execution_count": 32,
     "metadata": {},
     "output_type": "execute_result"
    }
   ],
   "source": [
    "h5f['longitude']"
   ]
  },
  {
   "cell_type": "code",
   "execution_count": 33,
   "metadata": {},
   "outputs": [],
   "source": [
    "rcp45 = Dataset('/home/local/barimpac/Downloads/Sea level/globalTWL_RCP45.nc')"
   ]
  },
  {
   "cell_type": "code",
   "execution_count": 36,
   "metadata": {},
   "outputs": [
    {
     "data": {
      "text/plain": [
       "odict_keys(['longitude', 'latitude', 'RSLR', 'TL', 'EV', 'TWL', 'percentile', 'decades'])"
      ]
     },
     "execution_count": 36,
     "metadata": {},
     "output_type": "execute_result"
    }
   ],
   "source": [
    "rcp45.variables.keys()"
   ]
  },
  {
   "cell_type": "code",
   "execution_count": 37,
   "metadata": {},
   "outputs": [],
   "source": [
    "def extract_var_rcp(dataset):\n",
    "    longitude = dataset.variables['longitude'][:]\n",
    "    latitude = dataset.variables['latitude'][:]\n",
    "    rslr = dataset.variables['RSLR'][:]\n",
    "    tl = dataset.variables['TL'][:]\n",
    "    ev = dataset.variables['EV'][:]\n",
    "    twl = dataset.variables['TWL'][:]\n",
    "    percentile = dataset.variables['percentile'][:]\n",
    "    decades = dataset.variables['decades'][:]\n",
    "    \n",
    "    return longitude, latitude, rslr, tl, ev, twl, percentile, decades"
   ]
  },
  {
   "cell_type": "code",
   "execution_count": 38,
   "metadata": {},
   "outputs": [],
   "source": [
    "longitude, latitude, rslr, tl, ev, twl, percentile, decades = extract_var_rcp(rcp45)"
   ]
  },
  {
   "cell_type": "code",
   "execution_count": 39,
   "metadata": {},
   "outputs": [],
   "source": [
    "h5f = h5py.File('sea_level_rcp45.h5', 'a')\n",
    "\n",
    "h5f.create_dataset('longitude', data=longitude)\n",
    "h5f.create_dataset('latitude', data=latitude)\n",
    "h5f.create_dataset('RSLR', data=rslr)\n",
    "h5f.create_dataset('TL', data=tl)\n",
    "h5f.create_dataset('EV', data=ev)\n",
    "h5f.create_dataset('TWL', data=twl)\n",
    "h5f.create_dataset('percentile', data=percentile)\n",
    "h5f.create_dataset('decades', data=decades)\n",
    "\n",
    "h5f.close()"
   ]
  },
  {
   "cell_type": "code",
   "execution_count": 40,
   "metadata": {},
   "outputs": [],
   "source": [
    "h5f = h5py.File('sea_level_rcp45.h5','r')"
   ]
  },
  {
   "cell_type": "code",
   "execution_count": 42,
   "metadata": {},
   "outputs": [
    {
     "data": {
      "text/plain": [
       "['EV', 'RSLR', 'TL', 'TWL', 'decades', 'latitude', 'longitude', 'percentile']"
      ]
     },
     "execution_count": 42,
     "metadata": {},
     "output_type": "execute_result"
    }
   ],
   "source": [
    "list(h5f.keys())"
   ]
  },
  {
   "cell_type": "code",
   "execution_count": 45,
   "metadata": {},
   "outputs": [],
   "source": [
    "rcp85 = Dataset('/home/local/barimpac/Downloads/Sea level/globalTWL_RCP85.nc')"
   ]
  },
  {
   "cell_type": "code",
   "execution_count": 46,
   "metadata": {},
   "outputs": [],
   "source": [
    "longitude, latitude, rslr, tl, ev, twl, percentile, decades = extract_var_rcp(rcp85)"
   ]
  },
  {
   "cell_type": "code",
   "execution_count": 47,
   "metadata": {},
   "outputs": [
    {
     "data": {
      "text/plain": [
       "odict_keys(['longitude', 'latitude', 'RSLR', 'TL', 'EV', 'TWL', 'percentile', 'decades'])"
      ]
     },
     "execution_count": 47,
     "metadata": {},
     "output_type": "execute_result"
    }
   ],
   "source": [
    "rcp45.variables.keys()"
   ]
  },
  {
   "cell_type": "code",
   "execution_count": 49,
   "metadata": {},
   "outputs": [],
   "source": [
    "def create_dataset(name, longitude, latitude, rslr, tl, ev, twl, percentile, decades):\n",
    "    h5f = h5py.File(name, 'a')\n",
    "\n",
    "    h5f.create_dataset('longitude', data=longitude)\n",
    "    h5f.create_dataset('latitude', data=latitude)\n",
    "    h5f.create_dataset('RSLR', data=rslr)\n",
    "    h5f.create_dataset('TL', data=tl)\n",
    "    h5f.create_dataset('EV', data=ev)\n",
    "    h5f.create_dataset('TWL', data=twl)\n",
    "    h5f.create_dataset('percentile', data=percentile)\n",
    "    h5f.create_dataset('decades', data=decades)\n",
    "\n",
    "    h5f.close()"
   ]
  },
  {
   "cell_type": "code",
   "execution_count": 50,
   "metadata": {},
   "outputs": [],
   "source": [
    "create_dataset('sea_level_rcp85.h5', longitude, latitude, rslr, tl, ev, twl, percentile, decades)"
   ]
  },
  {
   "cell_type": "code",
   "execution_count": 51,
   "metadata": {},
   "outputs": [],
   "source": [
    "h5f = h5py.File('sea_level_rcp85.h5','r')"
   ]
  },
  {
   "cell_type": "code",
   "execution_count": 52,
   "metadata": {},
   "outputs": [
    {
     "data": {
      "text/plain": [
       "['EV', 'RSLR', 'TL', 'TWL', 'decades', 'latitude', 'longitude', 'percentile']"
      ]
     },
     "execution_count": 52,
     "metadata": {},
     "output_type": "execute_result"
    }
   ],
   "source": [
    "list(h5f.keys())"
   ]
  },
  {
   "cell_type": "markdown",
   "metadata": {},
   "source": [
    "## globalTWL_baseline.nc contains:\n",
    "Total Water Level components - Present day\n",
    "100-year event Total Water Level along the global coastline for the period 1980 - 2014, including the 5th, 50th and 95th quantiles. Similar data are included also for the contributing components: mean sea level, tides and extreme weather events (wave setup+storm surge).\n",
    "\n",
    "## globalTWL_RCP45.nc contains:\n",
    "Total Water Level components - RCP45 NetCDF\n",
    "100-year event Total Water Level along the global coastline for the period 2015 - 2099 under the RCP45 emissions scenario, including the 5th, 50th and 95th quantiles. Similar data are included also for the contributing components: mean sea level, tides and extreme weather events (wave setup+storm surge).\n",
    "\n",
    "## globalTWL_RCP85.nc contains:\n",
    "Total Water Level components - RCP85 NetCDF\n",
    "100-year event Total Water Level along the global coastline for the period 2015 - 2099 under the RCP85 emissions scenario, including the 5th, 50th and 95th quantiles. Similar data are included also for the contributing components: mean sea level, tides and extreme weather events (wave setup+storm surge).\n",
    "\n",
    "## Source\n",
    "http://data.jrc.ec.europa.eu/dataset/jrc-liscoast-10012"
   ]
  },
  {
   "cell_type": "code",
   "execution_count": null,
   "metadata": {},
   "outputs": [],
   "source": []
  }
 ],
 "metadata": {
  "kernelspec": {
   "display_name": "Python 3",
   "language": "python",
   "name": "python3"
  },
  "language_info": {
   "codemirror_mode": {
    "name": "ipython",
    "version": 3
   },
   "file_extension": ".py",
   "mimetype": "text/x-python",
   "name": "python",
   "nbconvert_exporter": "python",
   "pygments_lexer": "ipython3",
   "version": "3.6.5"
  }
 },
 "nbformat": 4,
 "nbformat_minor": 2
}

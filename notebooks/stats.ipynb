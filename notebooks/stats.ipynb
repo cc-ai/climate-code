{
 "cells": [
  {
   "cell_type": "markdown",
   "metadata": {},
   "source": [
    "# Descriptive statistics"
   ]
  },
  {
   "cell_type": "code",
   "execution_count": 1,
   "metadata": {},
   "outputs": [],
   "source": [
    "import matplotlib.pyplot as plt\n",
    "import numpy as np\n",
    "import time\n",
    "import csv\n",
    "\n",
    "import pandas as pd\n",
    "import matplotlib.pyplot as plt\n",
    "import pickle\n",
    "import datetime"
   ]
  },
  {
   "cell_type": "code",
   "execution_count": 2,
   "metadata": {},
   "outputs": [],
   "source": [
    "df1 = pd.read_csv('/network/tmp1/barinpvi/data/canopex_envcan_all.csv')"
   ]
  },
  {
   "cell_type": "code",
   "execution_count": 3,
   "metadata": {},
   "outputs": [],
   "source": [
    "df1['date'] = pd.to_datetime(df1['date'])\n",
    "#df1.index = df1['date']"
   ]
  },
  {
   "cell_type": "code",
   "execution_count": 4,
   "metadata": {},
   "outputs": [
    {
     "data": {
      "text/html": [
       "<div>\n",
       "<style scoped>\n",
       "    .dataframe tbody tr th:only-of-type {\n",
       "        vertical-align: middle;\n",
       "    }\n",
       "\n",
       "    .dataframe tbody tr th {\n",
       "        vertical-align: top;\n",
       "    }\n",
       "\n",
       "    .dataframe thead th {\n",
       "        text-align: right;\n",
       "    }\n",
       "</style>\n",
       "<table border=\"1\" class=\"dataframe\">\n",
       "  <thead>\n",
       "    <tr style=\"text-align: right;\">\n",
       "      <th></th>\n",
       "      <th>date</th>\n",
       "      <th>precip</th>\n",
       "      <th>evap</th>\n",
       "      <th>discharge</th>\n",
       "      <th>max_temp</th>\n",
       "      <th>min_temp</th>\n",
       "      <th>lat</th>\n",
       "      <th>lon</th>\n",
       "    </tr>\n",
       "  </thead>\n",
       "  <tbody>\n",
       "    <tr>\n",
       "      <th>0</th>\n",
       "      <td>1967-07-01</td>\n",
       "      <td>3.5242</td>\n",
       "      <td>NaN</td>\n",
       "      <td>NaN</td>\n",
       "      <td>15.6541</td>\n",
       "      <td>4.5701</td>\n",
       "      <td>54.8278</td>\n",
       "      <td>-102.6356</td>\n",
       "    </tr>\n",
       "    <tr>\n",
       "      <th>1</th>\n",
       "      <td>1967-07-02</td>\n",
       "      <td>0.0000</td>\n",
       "      <td>NaN</td>\n",
       "      <td>NaN</td>\n",
       "      <td>20.3122</td>\n",
       "      <td>3.2177</td>\n",
       "      <td>54.8278</td>\n",
       "      <td>-102.6356</td>\n",
       "    </tr>\n",
       "    <tr>\n",
       "      <th>2</th>\n",
       "      <td>1967-07-03</td>\n",
       "      <td>0.0000</td>\n",
       "      <td>NaN</td>\n",
       "      <td>NaN</td>\n",
       "      <td>23.2121</td>\n",
       "      <td>6.0913</td>\n",
       "      <td>54.8278</td>\n",
       "      <td>-102.6356</td>\n",
       "    </tr>\n",
       "    <tr>\n",
       "      <th>3</th>\n",
       "      <td>1967-07-04</td>\n",
       "      <td>1.9314</td>\n",
       "      <td>NaN</td>\n",
       "      <td>NaN</td>\n",
       "      <td>28.0677</td>\n",
       "      <td>11.5386</td>\n",
       "      <td>54.8278</td>\n",
       "      <td>-102.6356</td>\n",
       "    </tr>\n",
       "    <tr>\n",
       "      <th>4</th>\n",
       "      <td>1967-07-05</td>\n",
       "      <td>3.3118</td>\n",
       "      <td>NaN</td>\n",
       "      <td>NaN</td>\n",
       "      <td>20.7560</td>\n",
       "      <td>8.0199</td>\n",
       "      <td>54.8278</td>\n",
       "      <td>-102.6356</td>\n",
       "    </tr>\n",
       "  </tbody>\n",
       "</table>\n",
       "</div>"
      ],
      "text/plain": [
       "        date  precip  evap  discharge  max_temp  min_temp      lat       lon\n",
       "0 1967-07-01  3.5242   NaN        NaN   15.6541    4.5701  54.8278 -102.6356\n",
       "1 1967-07-02  0.0000   NaN        NaN   20.3122    3.2177  54.8278 -102.6356\n",
       "2 1967-07-03  0.0000   NaN        NaN   23.2121    6.0913  54.8278 -102.6356\n",
       "3 1967-07-04  1.9314   NaN        NaN   28.0677   11.5386  54.8278 -102.6356\n",
       "4 1967-07-05  3.3118   NaN        NaN   20.7560    8.0199  54.8278 -102.6356"
      ]
     },
     "execution_count": 4,
     "metadata": {},
     "output_type": "execute_result"
    }
   ],
   "source": [
    "df1.head()"
   ]
  },
  {
   "cell_type": "code",
   "execution_count": 5,
   "metadata": {},
   "outputs": [
    {
     "data": {
      "text/plain": [
       "1.4257867976949026"
      ]
     },
     "execution_count": 5,
     "metadata": {},
     "output_type": "execute_result"
    }
   ],
   "source": [
    "df1['discharge'].mean()"
   ]
  },
  {
   "cell_type": "code",
   "execution_count": 6,
   "metadata": {},
   "outputs": [
    {
     "data": {
      "text/plain": [
       "99.8579"
      ]
     },
     "execution_count": 6,
     "metadata": {},
     "output_type": "execute_result"
    }
   ],
   "source": [
    "df1['discharge'].max()"
   ]
  },
  {
   "cell_type": "code",
   "execution_count": 7,
   "metadata": {},
   "outputs": [
    {
     "data": {
      "text/plain": [
       "0.0"
      ]
     },
     "execution_count": 7,
     "metadata": {},
     "output_type": "execute_result"
    }
   ],
   "source": [
    "df1['discharge'].min()"
   ]
  },
  {
   "cell_type": "code",
   "execution_count": 8,
   "metadata": {},
   "outputs": [
    {
     "data": {
      "text/plain": [
       "2.712214709609735"
      ]
     },
     "execution_count": 8,
     "metadata": {},
     "output_type": "execute_result"
    }
   ],
   "source": [
    "df1['discharge'].std()"
   ]
  },
  {
   "cell_type": "code",
   "execution_count": 5,
   "metadata": {},
   "outputs": [],
   "source": [
    "df100 = pd.read_csv('/network/tmp1/barinpvi/data/preprocessed_canopex_envcan/100.csv')\n",
    "\n",
    "df100['date'] = pd.to_datetime(df100['date'])"
   ]
  },
  {
   "cell_type": "markdown",
   "metadata": {},
   "source": [
    "# Plots"
   ]
  },
  {
   "cell_type": "markdown",
   "metadata": {},
   "source": [
    "### Single location (100.csv): Little Smoky, Alberta"
   ]
  },
  {
   "cell_type": "code",
   "execution_count": 24,
   "metadata": {},
   "outputs": [
    {
     "name": "stdout",
     "output_type": "stream",
     "text": [
      "1\n",
      "- MEAN -\n",
      "precip         1.570705\n",
      "evap                NaN\n",
      "discharge      0.326701\n",
      "max_temp      19.353706\n",
      "min_temp       7.923680\n",
      "lat           54.752000\n",
      "lon         -117.205700\n",
      "dtype: float64\n",
      "- STD -\n",
      "precip       2.412377e+00\n",
      "evap                  NaN\n",
      "discharge    5.805261e-01\n",
      "max_temp     5.031000e+00\n",
      "min_temp     3.163354e+00\n",
      "lat          6.468258e-13\n",
      "lon          2.701031e-13\n",
      "dtype: float64\n",
      "----\n",
      "2\n",
      "- MEAN -\n",
      "precip         1.190627\n",
      "evap                NaN\n",
      "discharge      0.274461\n",
      "max_temp      14.961398\n",
      "min_temp       3.455494\n",
      "lat           54.752000\n",
      "lon         -117.205700\n",
      "dtype: float64\n",
      "- STD -\n",
      "precip       2.087462e+00\n",
      "evap                  NaN\n",
      "discharge    4.707680e-01\n",
      "max_temp     6.150623e+00\n",
      "min_temp     3.774071e+00\n",
      "lat          4.264933e-14\n",
      "lon          1.137316e-12\n",
      "dtype: float64\n",
      "----\n",
      "3\n",
      "- MEAN -\n",
      "precip         0.723867\n",
      "evap          99.000000\n",
      "discharge      0.174017\n",
      "max_temp       9.430561\n",
      "min_temp      -1.627079\n",
      "lat           54.752000\n",
      "lon         -117.205700\n",
      "dtype: float64\n",
      "- STD -\n",
      "precip       1.517662e+00\n",
      "evap         0.000000e+00\n",
      "discharge    3.706549e-01\n",
      "max_temp     6.424419e+00\n",
      "min_temp     4.923893e+00\n",
      "lat          6.468258e-13\n",
      "lon          2.701031e-13\n",
      "dtype: float64\n",
      "----\n",
      "4\n",
      "- MEAN -\n",
      "precip         0.768468\n",
      "evap                NaN\n",
      "discharge      0.092164\n",
      "max_temp       0.497638\n",
      "min_temp      -9.693807\n",
      "lat           54.752000\n",
      "lon         -117.205700\n",
      "dtype: float64\n",
      "- STD -\n",
      "precip       1.605276e+00\n",
      "evap                  NaN\n",
      "discharge    8.240036e-02\n",
      "max_temp     7.722971e+00\n",
      "min_temp     7.452686e+00\n",
      "lat          2.914329e-13\n",
      "lon          7.818932e-13\n",
      "dtype: float64\n",
      "----\n",
      "5\n",
      "- MEAN -\n",
      "precip         0.820631\n",
      "evap          99.000000\n",
      "discharge      0.064673\n",
      "max_temp      -3.915323\n",
      "min_temp     -14.125564\n",
      "lat           54.752000\n",
      "lon         -117.205700\n",
      "dtype: float64\n",
      "- STD -\n",
      "precip       1.607658e+00\n",
      "evap         0.000000e+00\n",
      "discharge    3.519725e-01\n",
      "max_temp     9.492524e+00\n",
      "min_temp     1.106468e+01\n",
      "lat          5.046704e-13\n",
      "lon          4.833463e-13\n",
      "dtype: float64\n",
      "----\n",
      "6\n",
      "- MEAN -\n",
      "precip         0.970602\n",
      "evap                NaN\n",
      "discharge      0.037591\n",
      "max_temp      -5.515630\n",
      "min_temp     -17.136164\n",
      "lat           54.752000\n",
      "lon         -117.205700\n",
      "dtype: float64\n",
      "- STD -\n",
      "precip       1.804720e+00\n",
      "evap                  NaN\n",
      "discharge    2.031540e-02\n",
      "max_temp     1.070206e+01\n",
      "min_temp     1.072251e+01\n",
      "lat          2.914329e-13\n",
      "lon          7.818932e-13\n",
      "dtype: float64\n",
      "----\n",
      "7\n",
      "- MEAN -\n",
      "precip         0.723557\n",
      "evap                NaN\n",
      "discharge      0.036096\n",
      "max_temp      -1.590094\n",
      "min_temp     -14.234662\n",
      "lat           54.752000\n",
      "lon         -117.205700\n",
      "dtype: float64\n",
      "- STD -\n",
      "precip       1.482790e+00\n",
      "evap                  NaN\n",
      "discharge    1.971424e-02\n",
      "max_temp     9.192885e+00\n",
      "min_temp     9.397650e+00\n",
      "lat          7.818712e-13\n",
      "lon          8.529504e-14\n",
      "dtype: float64\n",
      "----\n",
      "8\n",
      "- MEAN -\n",
      "precip         0.658944\n",
      "evap                NaN\n",
      "discharge      0.061370\n",
      "max_temp       3.257084\n",
      "min_temp      -9.189627\n",
      "lat           54.752000\n",
      "lon         -117.205700\n",
      "dtype: float64\n",
      "- STD -\n",
      "precip       1.496000e+00\n",
      "evap                  NaN\n",
      "discharge    8.847251e-02\n",
      "max_temp     7.172507e+00\n",
      "min_temp     7.604953e+00\n",
      "lat          7.747637e-13\n",
      "lon          9.951093e-14\n",
      "dtype: float64\n",
      "----\n",
      "9\n",
      "- MEAN -\n",
      "precip         0.712659\n",
      "evap                NaN\n",
      "discharge      0.893314\n",
      "max_temp      10.457996\n",
      "min_temp      -1.740717\n",
      "lat           54.752000\n",
      "lon         -117.205700\n",
      "dtype: float64\n",
      "- STD -\n",
      "precip       1.625967e+00\n",
      "evap                  NaN\n",
      "discharge    1.105137e+00\n",
      "max_temp     5.701628e+00\n",
      "min_temp     4.403390e+00\n",
      "lat          4.406997e-13\n",
      "lon          5.686448e-13\n",
      "dtype: float64\n",
      "----\n",
      "10\n",
      "- MEAN -\n",
      "precip         1.212450\n",
      "evap                NaN\n",
      "discharge      1.119960\n",
      "max_temp      15.371290\n",
      "min_temp       3.357353\n",
      "lat           54.752000\n",
      "lon         -117.205700\n",
      "dtype: float64\n",
      "- STD -\n",
      "precip       2.109070e+00\n",
      "evap                  NaN\n",
      "discharge    1.416386e+00\n",
      "max_temp     5.680473e+00\n",
      "min_temp     3.579464e+00\n",
      "lat          6.468258e-13\n",
      "lon          2.701031e-13\n",
      "dtype: float64\n",
      "----\n",
      "11\n",
      "- MEAN -\n",
      "precip         1.820650\n",
      "evap                NaN\n",
      "discharge      0.899890\n",
      "max_temp      18.401859\n",
      "min_temp       7.256492\n",
      "lat           54.752000\n",
      "lon         -117.205700\n",
      "dtype: float64\n",
      "- STD -\n",
      "precip       2.469018e+00\n",
      "evap                  NaN\n",
      "discharge    1.472849e+00\n",
      "max_temp     4.361474e+00\n",
      "min_temp     2.760620e+00\n",
      "lat          4.406997e-13\n",
      "lon          5.686448e-13\n",
      "dtype: float64\n",
      "----\n",
      "12\n",
      "- MEAN -\n",
      "precip         1.777718\n",
      "evap                NaN\n",
      "discharge      0.757019\n",
      "max_temp      20.648194\n",
      "min_temp       9.331576\n",
      "lat           54.752000\n",
      "lon         -117.205700\n",
      "dtype: float64\n",
      "- STD -\n",
      "precip       2.482658e+00\n",
      "evap                  NaN\n",
      "discharge    1.616614e+00\n",
      "max_temp     4.311263e+00\n",
      "min_temp     2.647793e+00\n",
      "lat          6.468258e-13\n",
      "lon          2.701031e-13\n",
      "dtype: float64\n",
      "----\n"
     ]
    }
   ],
   "source": [
    "for i in range(1, 13):\n",
    "    print(i)\n",
    "    print(\"- MEAN -\")\n",
    "    print(df100.loc[(df1['date'].dt.month==i)].mean())\n",
    "    print(\"- STD -\")\n",
    "    print(df100.loc[(df1['date'].dt.month==i)].std())\n",
    "    print(\"----\")"
   ]
  },
  {
   "cell_type": "code",
   "execution_count": 24,
   "metadata": {},
   "outputs": [],
   "source": [
    "means = []\n",
    "stds = []\n",
    "ns = []\n",
    "for i in range(1, 13):\n",
    "    means.append(df100.loc[(df100['date'].dt.month==i)]['discharge'].mean())\n",
    "    stds.append(df100.loc[(df100['date'].dt.month==i)]['discharge'].std())\n",
    "    ns.append(len(df100.loc[(df100['date'].dt.month==i)]))"
   ]
  },
  {
   "cell_type": "code",
   "execution_count": 25,
   "metadata": {},
   "outputs": [],
   "source": [
    "p_means = []\n",
    "p_stds = []\n",
    "p_ns = []\n",
    "for i in range(1, 13):\n",
    "    p_means.append(df100.loc[(df100['date'].dt.month==i)]['precip'].mean())\n",
    "    p_stds.append(df100.loc[(df100['date'].dt.month==i)]['precip'].std())\n",
    "    p_ns.append(len(df100.loc[(df100['date'].dt.month==i)]))"
   ]
  },
  {
   "cell_type": "code",
   "execution_count": 22,
   "metadata": {},
   "outputs": [],
   "source": [
    "maxt_means = []\n",
    "maxt_stds = []\n",
    "maxt_ns = []\n",
    "for i in range(1, 13):\n",
    "    maxt_means.append(df100.loc[(df100['date'].dt.month==i)]['max_temp'].mean())\n",
    "    maxt_stds.append(df100.loc[(df100['date'].dt.month==i)]['max_temp'].std())\n",
    "    maxt_ns.append(len(df100.loc[(df100['date'].dt.month==i)]))"
   ]
  },
  {
   "cell_type": "code",
   "execution_count": 28,
   "metadata": {},
   "outputs": [],
   "source": [
    "mint_means = []\n",
    "mint_stds = []\n",
    "mint_ns = []\n",
    "for i in range(1, 13):\n",
    "    mint_means.append(df100.loc[(df100['date'].dt.month==i)]['min_temp'].mean())\n",
    "    mint_stds.append(df100.loc[(df100['date'].dt.month==i)]['min_temp'].std())\n",
    "    mint_ns.append(len(df100.loc[(df100['date'].dt.month==i)]))"
   ]
  },
  {
   "cell_type": "code",
   "execution_count": 34,
   "metadata": {},
   "outputs": [
    {
     "data": {
      "text/html": [
       "<div>\n",
       "<style scoped>\n",
       "    .dataframe tbody tr th:only-of-type {\n",
       "        vertical-align: middle;\n",
       "    }\n",
       "\n",
       "    .dataframe tbody tr th {\n",
       "        vertical-align: top;\n",
       "    }\n",
       "\n",
       "    .dataframe thead th {\n",
       "        text-align: right;\n",
       "    }\n",
       "</style>\n",
       "<table border=\"1\" class=\"dataframe\">\n",
       "  <thead>\n",
       "    <tr style=\"text-align: right;\">\n",
       "      <th></th>\n",
       "      <th>date</th>\n",
       "      <th>precip</th>\n",
       "      <th>evap</th>\n",
       "      <th>discharge</th>\n",
       "      <th>max_temp</th>\n",
       "      <th>min_temp</th>\n",
       "      <th>lat</th>\n",
       "      <th>lon</th>\n",
       "    </tr>\n",
       "  </thead>\n",
       "  <tbody>\n",
       "    <tr>\n",
       "      <th>0</th>\n",
       "      <td>1968-02-01</td>\n",
       "      <td>5.9554</td>\n",
       "      <td>NaN</td>\n",
       "      <td>NaN</td>\n",
       "      <td>-29.1428</td>\n",
       "      <td>-32.9766</td>\n",
       "      <td>54.752</td>\n",
       "      <td>-117.2057</td>\n",
       "    </tr>\n",
       "    <tr>\n",
       "      <th>1</th>\n",
       "      <td>1968-02-02</td>\n",
       "      <td>7.8870</td>\n",
       "      <td>NaN</td>\n",
       "      <td>NaN</td>\n",
       "      <td>-29.8786</td>\n",
       "      <td>-31.8214</td>\n",
       "      <td>54.752</td>\n",
       "      <td>-117.2057</td>\n",
       "    </tr>\n",
       "    <tr>\n",
       "      <th>2</th>\n",
       "      <td>1968-02-03</td>\n",
       "      <td>4.2104</td>\n",
       "      <td>NaN</td>\n",
       "      <td>NaN</td>\n",
       "      <td>-13.9552</td>\n",
       "      <td>-36.3428</td>\n",
       "      <td>54.752</td>\n",
       "      <td>-117.2057</td>\n",
       "    </tr>\n",
       "    <tr>\n",
       "      <th>3</th>\n",
       "      <td>1968-02-04</td>\n",
       "      <td>0.0000</td>\n",
       "      <td>NaN</td>\n",
       "      <td>NaN</td>\n",
       "      <td>2.4909</td>\n",
       "      <td>-30.9786</td>\n",
       "      <td>54.752</td>\n",
       "      <td>-117.2057</td>\n",
       "    </tr>\n",
       "    <tr>\n",
       "      <th>4</th>\n",
       "      <td>1968-02-05</td>\n",
       "      <td>0.0000</td>\n",
       "      <td>NaN</td>\n",
       "      <td>NaN</td>\n",
       "      <td>0.6552</td>\n",
       "      <td>-24.4662</td>\n",
       "      <td>54.752</td>\n",
       "      <td>-117.2057</td>\n",
       "    </tr>\n",
       "  </tbody>\n",
       "</table>\n",
       "</div>"
      ],
      "text/plain": [
       "        date  precip  evap  discharge  max_temp  min_temp     lat       lon\n",
       "0 1968-02-01  5.9554   NaN        NaN  -29.1428  -32.9766  54.752 -117.2057\n",
       "1 1968-02-02  7.8870   NaN        NaN  -29.8786  -31.8214  54.752 -117.2057\n",
       "2 1968-02-03  4.2104   NaN        NaN  -13.9552  -36.3428  54.752 -117.2057\n",
       "3 1968-02-04  0.0000   NaN        NaN    2.4909  -30.9786  54.752 -117.2057\n",
       "4 1968-02-05  0.0000   NaN        NaN    0.6552  -24.4662  54.752 -117.2057"
      ]
     },
     "execution_count": 34,
     "metadata": {},
     "output_type": "execute_result"
    }
   ],
   "source": [
    "df100.head()"
   ]
  },
  {
   "cell_type": "code",
   "execution_count": 46,
   "metadata": {},
   "outputs": [
    {
     "data": {
      "text/plain": [
       "Text(0, 0.5, 'mm')"
      ]
     },
     "execution_count": 46,
     "metadata": {},
     "output_type": "execute_result"
    },
    {
     "data": {
      "image/png": "[encoded data removed]",
      "text/plain": [
       "<Figure size 432x288 with 1 Axes>"
      ]
     },
     "metadata": {
      "needs_background": "light"
     },
     "output_type": "display_data"
    }
   ],
   "source": [
    "plt.scatter(np.arange(1, 13), means, color='blue', alpha=0.6, label='discharge')\n",
    "plt.errorbar(np.arange(1, 13), means, (stds/np.sqrt(ns)), color='black', alpha=0.6)\n",
    "\n",
    "plt.scatter(np.arange(1, 13), p_means, color='red', alpha=0.6, label='precip')\n",
    "plt.errorbar(np.arange(1, 13), p_means, (p_stds/np.sqrt(p_ns)), color='black', alpha=0.6)\n",
    "\n",
    "plt.legend()\n",
    "plt.title(\"100\")\n",
    "plt.xlabel(\"Month\")\n",
    "plt.ylabel(\"mm\")"
   ]
  },
  {
   "cell_type": "code",
   "execution_count": 31,
   "metadata": {},
   "outputs": [
    {
     "data": {
      "text/plain": [
       "Text(0, 0.5, '')"
      ]
     },
     "execution_count": 31,
     "metadata": {},
     "output_type": "execute_result"
    },
    {
     "data": {
      "image/png": "[encoded data removed]",
      "text/plain": [
       "<Figure size 432x288 with 1 Axes>"
      ]
     },
     "metadata": {
      "needs_background": "light"
     },
     "output_type": "display_data"
    }
   ],
   "source": [
    "plt.scatter(np.arange(1, 13), means, color='blue', alpha=0.6, label='discharge (mm)')\n",
    "plt.errorbar(np.arange(1, 13), means, (stds/np.sqrt(ns)), color='black', alpha=0.6)\n",
    "\n",
    "plt.scatter(np.arange(1, 13), p_means, color='red', alpha=0.6, label='precip (mm)')\n",
    "plt.errorbar(np.arange(1, 13), p_means, (p_stds/np.sqrt(p_ns)), color='black', alpha=0.6)\n",
    "\n",
    "plt.scatter(np.arange(1, 13), maxt_means, color='green', alpha=0.6, label='max temp ($\\degree$C)')\n",
    "plt.errorbar(np.arange(1, 13), maxt_means, (maxt_stds/np.sqrt(maxt_ns)), color='black', alpha=0.6)\n",
    "\n",
    "plt.scatter(np.arange(1, 13), mint_means, color='orange', alpha=0.6, label='min temp ($\\degree$C)')\n",
    "plt.errorbar(np.arange(1, 13), mint_means, (mint_stds/np.sqrt(mint_ns)), color='black', alpha=0.6)\n",
    "\n",
    "plt.legend()\n",
    "plt.title(\"100\")\n",
    "plt.xlabel(\"Month\")\n",
    "plt.ylabel(\"\")"
   ]
  },
  {
   "cell_type": "markdown",
   "metadata": {},
   "source": [
    "Temperature does not seem to be correlated on a monthly scale.\n",
    "\n",
    "Should verify on a daily scale."
   ]
  },
  {
   "cell_type": "markdown",
   "metadata": {},
   "source": [
    "### All files (locations)"
   ]
  },
  {
   "cell_type": "code",
   "execution_count": 47,
   "metadata": {},
   "outputs": [],
   "source": [
    "all_d_means = []\n",
    "all_d_stds = []\n",
    "all_d_ns = []\n",
    "for i in range(1, 13):\n",
    "    all_d_means.append(df1.loc[(df1['date'].dt.month==i)]['discharge'].mean())\n",
    "    all_d_stds.append(df1.loc[(df1['date'].dt.month==i)]['discharge'].std())\n",
    "    all_d_ns.append(len(df1.loc[(df1['date'].dt.month==i)]))"
   ]
  },
  {
   "cell_type": "code",
   "execution_count": 48,
   "metadata": {},
   "outputs": [],
   "source": [
    "all_p_means = []\n",
    "all_p_stds = []\n",
    "all_p_ns = []\n",
    "for i in range(1, 13):\n",
    "    all_p_means.append(df1.loc[(df1['date'].dt.month==i)]['precip'].mean())\n",
    "    all_p_stds.append(df1.loc[(df1['date'].dt.month==i)]['precip'].std())\n",
    "    all_p_ns.append(len(df1.loc[(df1['date'].dt.month==i)]))"
   ]
  },
  {
   "cell_type": "code",
   "execution_count": 49,
   "metadata": {},
   "outputs": [
    {
     "data": {
      "text/plain": [
       "Text(0, 0.5, 'mm')"
      ]
     },
     "execution_count": 49,
     "metadata": {},
     "output_type": "execute_result"
    },
    {
     "data": {
      "image/png": "[encoded data removed]",
      "text/plain": [
       "<Figure size 432x288 with 1 Axes>"
      ]
     },
     "metadata": {
      "needs_background": "light"
     },
     "output_type": "display_data"
    }
   ],
   "source": [
    "plt.scatter(np.arange(1, 13), all_d_means, color='blue', alpha=0.6, label='discharge')\n",
    "plt.errorbar(np.arange(1, 13), all_d_means, (all_d_stds/np.sqrt(all_d_ns)), color='black', alpha=0.6)\n",
    "\n",
    "plt.scatter(np.arange(1, 13), all_p_means, color='red', alpha=0.6, label='precip')\n",
    "plt.errorbar(np.arange(1, 13), all_p_means, (p_stds/np.sqrt(p_ns)), color='black', alpha=0.6)\n",
    "\n",
    "plt.legend()\n",
    "plt.title(\"All rivers\")\n",
    "plt.xlabel(\"Month\")\n",
    "plt.ylabel(\"mm\")"
   ]
  },
  {
   "cell_type": "markdown",
   "metadata": {},
   "source": [
    "# Correlation coefficient"
   ]
  },
  {
   "cell_type": "markdown",
   "metadata": {},
   "source": [
    "### All files"
   ]
  },
  {
   "cell_type": "code",
   "execution_count": 34,
   "metadata": {},
   "outputs": [],
   "source": [
    "disch = df1['discharge'].fillna(method='bfill').fillna(method='ffill')\n",
    "\n",
    "prec = df1['precip'].fillna(method='bfill').fillna(method='ffill')"
   ]
  },
  {
   "cell_type": "code",
   "execution_count": 67,
   "metadata": {},
   "outputs": [
    {
     "data": {
      "text/plain": [
       "array([[11.75028741,  0.1646915 ],\n",
       "       [ 0.1646915 ,  5.74032992]])"
      ]
     },
     "execution_count": 67,
     "metadata": {},
     "output_type": "execute_result"
    }
   ],
   "source": [
    "np.cov(disch, prec)"
   ]
  },
  {
   "cell_type": "code",
   "execution_count": 68,
   "metadata": {},
   "outputs": [
    {
     "data": {
      "text/plain": [
       "array([[1.        , 0.02005296],\n",
       "       [0.02005296, 1.        ]])"
      ]
     },
     "execution_count": 68,
     "metadata": {},
     "output_type": "execute_result"
    }
   ],
   "source": [
    "np.corrcoef(disch, prec)"
   ]
  },
  {
   "cell_type": "markdown",
   "metadata": {},
   "source": [
    "The correlation coefficient between discharge and precipitation for all the time/location is of 0.02.\n",
    "\n",
    "Positive: indicates that they are positively dependent (one increases the other).\n",
    "\n",
    "Value: Low, since it is normalized between 0 and 1."
   ]
  },
  {
   "cell_type": "markdown",
   "metadata": {},
   "source": [
    "### File 100"
   ]
  },
  {
   "cell_type": "code",
   "execution_count": 69,
   "metadata": {},
   "outputs": [],
   "source": [
    "disch100 = df100['discharge'].fillna(method='bfill').fillna(method='ffill')\n",
    "\n",
    "prec100 = df100['precip'].fillna(method='bfill').fillna(method='ffill')"
   ]
  },
  {
   "cell_type": "code",
   "execution_count": 70,
   "metadata": {},
   "outputs": [
    {
     "data": {
      "text/plain": [
       "array([[1.42719266, 0.12352772],\n",
       "       [0.12352772, 3.8892974 ]])"
      ]
     },
     "execution_count": 70,
     "metadata": {},
     "output_type": "execute_result"
    }
   ],
   "source": [
    "np.cov(disch100, prec100)"
   ]
  },
  {
   "cell_type": "code",
   "execution_count": 71,
   "metadata": {},
   "outputs": [
    {
     "data": {
      "text/plain": [
       "array([[1.        , 0.05243093],\n",
       "       [0.05243093, 1.        ]])"
      ]
     },
     "execution_count": 71,
     "metadata": {},
     "output_type": "execute_result"
    }
   ],
   "source": [
    "np.corrcoef(disch100, prec100)"
   ]
  },
  {
   "cell_type": "markdown",
   "metadata": {},
   "source": [
    "0.3 higher correlation coefficient locally."
   ]
  },
  {
   "cell_type": "markdown",
   "metadata": {},
   "source": [
    "### Per month"
   ]
  },
  {
   "cell_type": "code",
   "execution_count": 13,
   "metadata": {},
   "outputs": [
    {
     "data": {
      "text/plain": [
       "Text(0.5, 1.0, 'Discharge and precipitation correlation, loc 100')"
      ]
     },
     "execution_count": 13,
     "metadata": {},
     "output_type": "execute_result"
    },
    {
     "data": {
      "image/png": "[encoded data removed]",
      "text/plain": [
       "<Figure size 432x288 with 1 Axes>"
      ]
     },
     "metadata": {
      "needs_background": "light"
     },
     "output_type": "display_data"
    }
   ],
   "source": [
    "correlations = []\n",
    "for i in range(1, 13):\n",
    "    d = df100.loc[(df100['date'].dt.month==i)]['discharge']\n",
    "    p = df100.loc[(df100['date'].dt.month==i)]['precip']\n",
    "    c = np.corrcoef(d, p)[0,1]\n",
    "    correlations.append(c)\n",
    "\n",
    "plt.scatter(np.arange(1,13), correlations)\n",
    "plt.xlabel(\"Month\")\n",
    "plt.ylabel(\"Correlation coefficient\")\n",
    "plt.title(\"Discharge and precipitation correlation, loc 100\")"
   ]
  },
  {
   "cell_type": "code",
   "execution_count": 18,
   "metadata": {},
   "outputs": [],
   "source": [
    "correlations = []\n",
    "for i in range(1, 13):\n",
    "    d = df1.loc[(df1['date'].dt.month==i)]['discharge'].fillna(method='bfill').fillna(method='ffill')\n",
    "    p = df1.loc[(df1['date'].dt.month==i)]['precip'].fillna(method='bfill').fillna(method='ffill')\n",
    "    c = np.corrcoef(d, p)[0,1]\n",
    "    correlations.append(c)"
   ]
  },
  {
   "cell_type": "code",
   "execution_count": 21,
   "metadata": {},
   "outputs": [
    {
     "data": {
      "text/plain": [
       "Text(0.5, 1.0, 'Discharge and precipitation correlation - All locations')"
      ]
     },
     "execution_count": 21,
     "metadata": {},
     "output_type": "execute_result"
    },
    {
     "data": {
      "image/png": "[encoded data removed]",
      "text/plain": [
       "<Figure size 432x288 with 1 Axes>"
      ]
     },
     "metadata": {
      "needs_background": "light"
     },
     "output_type": "display_data"
    }
   ],
   "source": [
    "plt.scatter(np.arange(1,13), correlations)\n",
    "plt.xlabel(\"Month\")\n",
    "plt.ylabel(\"Correlation coefficient\")\n",
    "plt.title(\"Discharge and precipitation correlation - All locations\")"
   ]
  },
  {
   "cell_type": "markdown",
   "metadata": {},
   "source": [
    "Negative correlation in January."
   ]
  },
  {
   "cell_type": "markdown",
   "metadata": {},
   "source": [
    "### Temperature"
   ]
  },
  {
   "cell_type": "code",
   "execution_count": 32,
   "metadata": {},
   "outputs": [],
   "source": [
    "mxtemp = df1['max_temp'].fillna(method='bfill').fillna(method='ffill')"
   ]
  },
  {
   "cell_type": "code",
   "execution_count": 36,
   "metadata": {},
   "outputs": [
    {
     "data": {
      "text/plain": [
       "array([[1.        , 0.04091811],\n",
       "       [0.04091811, 1.        ]])"
      ]
     },
     "execution_count": 36,
     "metadata": {},
     "output_type": "execute_result"
    }
   ],
   "source": [
    "np.corrcoef(disch, mxtemp)"
   ]
  },
  {
   "cell_type": "code",
   "execution_count": 38,
   "metadata": {},
   "outputs": [
    {
     "data": {
      "text/plain": [
       "array([[ 1.        , -0.30954554],\n",
       "       [-0.30954554,  1.        ]])"
      ]
     },
     "execution_count": 38,
     "metadata": {},
     "output_type": "execute_result"
    }
   ],
   "source": [
    "np.corrcoef(prec, mxtemp)"
   ]
  },
  {
   "cell_type": "markdown",
   "metadata": {},
   "source": [
    "### Checking the rest of the data"
   ]
  },
  {
   "cell_type": "code",
   "execution_count": 29,
   "metadata": {},
   "outputs": [
    {
     "data": {
      "text/plain": [
       "99.0"
      ]
     },
     "execution_count": 29,
     "metadata": {},
     "output_type": "execute_result"
    }
   ],
   "source": [
    "df1['evap'].max()"
   ]
  },
  {
   "cell_type": "code",
   "execution_count": 30,
   "metadata": {},
   "outputs": [
    {
     "data": {
      "text/plain": [
       "99.0"
      ]
     },
     "execution_count": 30,
     "metadata": {},
     "output_type": "execute_result"
    }
   ],
   "source": [
    "df1['evap'].min()"
   ]
  },
  {
   "cell_type": "markdown",
   "metadata": {},
   "source": [
    "### NRCAN"
   ]
  },
  {
   "cell_type": "code",
   "execution_count": 33,
   "metadata": {},
   "outputs": [],
   "source": [
    "df1 = pd.read_csv('/network/tmp1/barinpvi/data/canopex_nrcan_all.csv')"
   ]
  },
  {
   "cell_type": "code",
   "execution_count": 35,
   "metadata": {},
   "outputs": [
    {
     "data": {
      "text/plain": [
       "99.0"
      ]
     },
     "execution_count": 35,
     "metadata": {},
     "output_type": "execute_result"
    }
   ],
   "source": [
    "df1['evap'].max()"
   ]
  },
  {
   "cell_type": "code",
   "execution_count": 36,
   "metadata": {},
   "outputs": [
    {
     "data": {
      "text/plain": [
       "99.0"
      ]
     },
     "execution_count": 36,
     "metadata": {},
     "output_type": "execute_result"
    }
   ],
   "source": [
    "df1['evap'].min()"
   ]
  },
  {
   "cell_type": "code",
   "execution_count": 37,
   "metadata": {},
   "outputs": [
    {
     "data": {
      "text/plain": [
       "99.8579"
      ]
     },
     "execution_count": 37,
     "metadata": {},
     "output_type": "execute_result"
    }
   ],
   "source": [
    "df1['discharge'].max()"
   ]
  },
  {
   "cell_type": "code",
   "execution_count": 38,
   "metadata": {},
   "outputs": [
    {
     "data": {
      "text/plain": [
       "-99.0"
      ]
     },
     "execution_count": 38,
     "metadata": {},
     "output_type": "execute_result"
    }
   ],
   "source": [
    "df1['discharge'].min()"
   ]
  },
  {
   "cell_type": "code",
   "execution_count": 39,
   "metadata": {},
   "outputs": [
    {
     "data": {
      "text/plain": [
       "(array([2.000000e+00, 0.000000e+00, 0.000000e+00, 0.000000e+00,\n",
       "        2.286119e+06, 2.837608e+06, 1.077900e+04, 9.050000e+02,\n",
       "        2.370000e+02, 8.300000e+01]),\n",
       " array([-99.     , -79.11421, -59.22842, -39.34263, -19.45684,   0.42895,\n",
       "         20.31474,  40.20053,  60.08632,  79.97211,  99.8579 ]),\n",
       " <a list of 10 Patch objects>)"
      ]
     },
     "execution_count": 39,
     "metadata": {},
     "output_type": "execute_result"
    },
    {
     "data": {
      "image/png": "[encoded data removed]",
      "text/plain": [
       "<Figure size 432x288 with 1 Axes>"
      ]
     },
     "metadata": {
      "needs_background": "light"
     },
     "output_type": "display_data"
    }
   ],
   "source": [
    "plt.hist(df1['discharge'])"
   ]
  },
  {
   "cell_type": "markdown",
   "metadata": {},
   "source": [
    "Evaporation should not be used. NRCAN seems to need corrections because of the negative values."
   ]
  },
  {
   "cell_type": "code",
   "execution_count": null,
   "metadata": {},
   "outputs": [],
   "source": []
  }
 ],
 "metadata": {
  "kernelspec": {
   "display_name": "geo",
   "language": "python",
   "name": "geo"
  },
  "language_info": {
   "codemirror_mode": {
    "name": "ipython",
    "version": 3
   },
   "file_extension": ".py",
   "mimetype": "text/x-python",
   "name": "python",
   "nbconvert_exporter": "python",
   "pygments_lexer": "ipython3",
   "version": "3.6.9"
  }
 },
 "nbformat": 4,
 "nbformat_minor": 2
}

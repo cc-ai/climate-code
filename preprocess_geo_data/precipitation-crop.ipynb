{
 "cells": [
  {
   "cell_type": "code",
   "execution_count": 1,
   "metadata": {},
   "outputs": [],
   "source": [
    "%load_ext autoreload\n",
    "%autoreload 2"
   ]
  },
  {
   "cell_type": "code",
   "execution_count": 2,
   "metadata": {},
   "outputs": [],
   "source": [
    "from netCDF4 import Dataset, num2date, date2num\n",
    "import numpy as np\n",
    "import matplotlib.pyplot as plt\n",
    "from datetime import datetime, timedelta\n",
    "import pandas as pd\n",
    "import pickle"
   ]
  },
  {
   "cell_type": "code",
   "execution_count": 3,
   "metadata": {},
   "outputs": [],
   "source": [
    "dataset = Dataset(\"precip.mon.total.v2018.nc\")"
   ]
  },
  {
   "cell_type": "markdown",
   "metadata": {},
   "source": [
    "Source: https://www.esrl.noaa.gov/psd/data/gridded/data.gpcc.html"
   ]
  },
  {
   "cell_type": "code",
   "execution_count": 4,
   "metadata": {},
   "outputs": [
    {
     "data": {
      "text/plain": [
       "odict_keys(['lat', 'lon', 'time', 'precip'])"
      ]
     },
     "execution_count": 4,
     "metadata": {},
     "output_type": "execute_result"
    }
   ],
   "source": [
    "dataset.variables.keys()"
   ]
  },
  {
   "cell_type": "code",
   "execution_count": 5,
   "metadata": {},
   "outputs": [
    {
     "data": {
      "text/plain": [
       "<class 'netCDF4._netCDF4.Variable'>\n",
       "float32 precip(time, lat, lon)\n",
       "    missing_value: -9.96921e+36\n",
       "    units: mm\n",
       "    var_desc: Precipitation\n",
       "    level_desc: Surface\n",
       "    parent_stat: Observations\n",
       "    long_name: GPCC Monthly total of precipitation\n",
       "    valid_range: [   0. 8000.]\n",
       "    statistic: Total\n",
       "    level: Surface\n",
       "    actual_range: [   0.   4552.43]\n",
       "    dataset: GPCC Precipitation 0.5degree V2018 Full Reanalysis\n",
       "unlimited dimensions: time\n",
       "current shape = (1512, 360, 720)\n",
       "filling on, default _FillValue of 9.969209968386869e+36 used"
      ]
     },
     "execution_count": 5,
     "metadata": {},
     "output_type": "execute_result"
    }
   ],
   "source": [
    "dataset.variables['precip']"
   ]
  },
  {
   "cell_type": "code",
   "execution_count": 6,
   "metadata": {},
   "outputs": [],
   "source": [
    "times = dataset.variables['time']\n",
    "\n",
    "dates = num2date(times[:], units=times.units)"
   ]
  },
  {
   "cell_type": "code",
   "execution_count": 7,
   "metadata": {},
   "outputs": [],
   "source": [
    "lat = dataset.variables['lat'][:]\n",
    "lon = dataset.variables['lon'][:]"
   ]
  },
  {
   "cell_type": "code",
   "execution_count": 8,
   "metadata": {},
   "outputs": [],
   "source": [
    "precip = dataset.variables['precip'][:]"
   ]
  },
  {
   "cell_type": "code",
   "execution_count": 9,
   "metadata": {},
   "outputs": [
    {
     "data": {
      "text/plain": [
       "(1512, 360, 720)"
      ]
     },
     "execution_count": 9,
     "metadata": {},
     "output_type": "execute_result"
    }
   ],
   "source": [
    "precip.shape"
   ]
  },
  {
   "cell_type": "code",
   "execution_count": 10,
   "metadata": {},
   "outputs": [],
   "source": [
    "# filtering coordinates of Alberta\n",
    "\n",
    "idx_lat = np.where((lat >= 48.99) & (lat <= 60))\n",
    "\n",
    "idx_lon = np.where((lon >= 360-120) & (lon <= 360-110)) # longitudes to interval [0.25, 356.75]"
   ]
  },
  {
   "cell_type": "code",
   "execution_count": 11,
   "metadata": {},
   "outputs": [
    {
     "name": "stdout",
     "output_type": "stream",
     "text": [
      "(1512, 22, 20)\n"
     ]
    }
   ],
   "source": [
    "temp = precip[:,:,idx_lon][:,:,0,:]\n",
    "temp = temp[:,idx_lat,:][:,0,:,:]\n",
    "print(temp.shape)"
   ]
  },
  {
   "cell_type": "code",
   "execution_count": 12,
   "metadata": {},
   "outputs": [],
   "source": [
    "df1 = pd.DataFrame(columns=['date', 'latitude', 'longitude', 'precip'])"
   ]
  },
  {
   "cell_type": "code",
   "execution_count": 143,
   "metadata": {},
   "outputs": [],
   "source": [
    "## not needed if the array is masked\n",
    "# p = temp\n",
    "# idx_x, idx_y, idx_z = np.where(p < -10^(-20))\n",
    "# p[idx_x, idx_y, idx_z] = np.nan"
   ]
  },
  {
   "cell_type": "code",
   "execution_count": 13,
   "metadata": {},
   "outputs": [],
   "source": [
    "i = 0\n",
    "for d in range(0, len(dates)):\n",
    "    for x in range(0, 20):\n",
    "        for y in range(0, 20):\n",
    "            df2 = pd.DataFrame({'date': dates[d], \"latitude\": lat[idx_lat][x], 'longitude': lon[idx_lon][y], 'precip': temp[d, x, y]}, index=[i])\n",
    "            df1 = df1.append([df2])\n",
    "            i += 1"
   ]
  },
  {
   "cell_type": "code",
   "execution_count": 14,
   "metadata": {},
   "outputs": [
    {
     "data": {
      "text/html": [
       "<div>\n",
       "<style scoped>\n",
       "    .dataframe tbody tr th:only-of-type {\n",
       "        vertical-align: middle;\n",
       "    }\n",
       "\n",
       "    .dataframe tbody tr th {\n",
       "        vertical-align: top;\n",
       "    }\n",
       "\n",
       "    .dataframe thead th {\n",
       "        text-align: right;\n",
       "    }\n",
       "</style>\n",
       "<table border=\"1\" class=\"dataframe\">\n",
       "  <thead>\n",
       "    <tr style=\"text-align: right;\">\n",
       "      <th></th>\n",
       "      <th>date</th>\n",
       "      <th>latitude</th>\n",
       "      <th>longitude</th>\n",
       "      <th>precip</th>\n",
       "    </tr>\n",
       "  </thead>\n",
       "  <tbody>\n",
       "    <tr>\n",
       "      <th>0</th>\n",
       "      <td>1891-01-01</td>\n",
       "      <td>59.75</td>\n",
       "      <td>240.25</td>\n",
       "      <td>21.459999</td>\n",
       "    </tr>\n",
       "    <tr>\n",
       "      <th>1</th>\n",
       "      <td>1891-01-01</td>\n",
       "      <td>59.75</td>\n",
       "      <td>240.75</td>\n",
       "      <td>21.139999</td>\n",
       "    </tr>\n",
       "    <tr>\n",
       "      <th>2</th>\n",
       "      <td>1891-01-01</td>\n",
       "      <td>59.75</td>\n",
       "      <td>241.25</td>\n",
       "      <td>21.309999</td>\n",
       "    </tr>\n",
       "    <tr>\n",
       "      <th>3</th>\n",
       "      <td>1891-01-01</td>\n",
       "      <td>59.75</td>\n",
       "      <td>241.75</td>\n",
       "      <td>21.900000</td>\n",
       "    </tr>\n",
       "    <tr>\n",
       "      <th>4</th>\n",
       "      <td>1891-01-01</td>\n",
       "      <td>59.75</td>\n",
       "      <td>242.25</td>\n",
       "      <td>21.900000</td>\n",
       "    </tr>\n",
       "  </tbody>\n",
       "</table>\n",
       "</div>"
      ],
      "text/plain": [
       "        date  latitude  longitude     precip\n",
       "0 1891-01-01     59.75     240.25  21.459999\n",
       "1 1891-01-01     59.75     240.75  21.139999\n",
       "2 1891-01-01     59.75     241.25  21.309999\n",
       "3 1891-01-01     59.75     241.75  21.900000\n",
       "4 1891-01-01     59.75     242.25  21.900000"
      ]
     },
     "execution_count": 14,
     "metadata": {},
     "output_type": "execute_result"
    }
   ],
   "source": [
    "df1.head()"
   ]
  },
  {
   "cell_type": "code",
   "execution_count": 15,
   "metadata": {},
   "outputs": [
    {
     "data": {
      "text/plain": [
       "604800"
      ]
     },
     "execution_count": 15,
     "metadata": {},
     "output_type": "execute_result"
    }
   ],
   "source": [
    "len(df1)"
   ]
  },
  {
   "cell_type": "code",
   "execution_count": 19,
   "metadata": {},
   "outputs": [],
   "source": [
    "outfile = open('precip_ab.pkl','wb')"
   ]
  },
  {
   "cell_type": "code",
   "execution_count": 20,
   "metadata": {},
   "outputs": [],
   "source": [
    "pickle.dump(df1, outfile)\n",
    "outfile.close()"
   ]
  },
  {
   "cell_type": "code",
   "execution_count": null,
   "metadata": {},
   "outputs": [],
   "source": []
  }
 ],
 "metadata": {
  "kernelspec": {
   "display_name": "geo",
   "language": "python",
   "name": "geo"
  },
  "language_info": {
   "codemirror_mode": {
    "name": "ipython",
    "version": 3
   },
   "file_extension": ".py",
   "mimetype": "text/x-python",
   "name": "python",
   "nbconvert_exporter": "python",
   "pygments_lexer": "ipython3",
   "version": "3.6.8"
  }
 },
 "nbformat": 4,
 "nbformat_minor": 2
}

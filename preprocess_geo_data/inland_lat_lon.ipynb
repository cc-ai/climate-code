{
 "cells": [
  {
   "cell_type": "markdown",
   "metadata": {},
   "source": [
    "# Flood hazard map of the World - 50-year return period\n",
    "\n",
    "Converts the georiff image file to HDF5, such that the water level is given as a function of latitude and longitude.\n",
    "\n",
    "Data source: https://data.jrc.ec.europa.eu/dataset/jrc-floods-floodmapgl_rp50y-tif "
   ]
  },
  {
   "cell_type": "code",
   "execution_count": 1,
   "metadata": {},
   "outputs": [],
   "source": [
    "import rasterio\n",
    "import numpy as np\n",
    "from affine import Affine\n",
    "from pyproj import Proj, transform"
   ]
  },
  {
   "cell_type": "code",
   "execution_count": 2,
   "metadata": {},
   "outputs": [],
   "source": [
    "fname = '/network/home/barinpvi/floodMap/floodMapGL_rp50y.tif'\n",
    "\n",
    "# Read raster\n",
    "with rasterio.open(fname) as r:\n",
    "    T0 = r.transform  # upper-left pixel corner affine transform\n",
    "    p1 = Proj(r.crs)\n",
    "    A = r.read()  # pixel values"
   ]
  },
  {
   "cell_type": "code",
   "execution_count": 3,
   "metadata": {},
   "outputs": [],
   "source": [
    "# All rows and columns\n",
    "cols, rows = np.meshgrid(np.arange(A.shape[2]), np.arange(A.shape[1]))"
   ]
  },
  {
   "cell_type": "code",
   "execution_count": 4,
   "metadata": {},
   "outputs": [
    {
     "data": {
      "text/plain": [
       "(16468, 41616)"
      ]
     },
     "execution_count": 4,
     "metadata": {},
     "output_type": "execute_result"
    }
   ],
   "source": [
    "cols.shape"
   ]
  },
  {
   "cell_type": "code",
   "execution_count": 6,
   "metadata": {},
   "outputs": [
    {
     "data": {
      "text/plain": [
       "(16468, 41616)"
      ]
     },
     "execution_count": 6,
     "metadata": {},
     "output_type": "execute_result"
    }
   ],
   "source": [
    "rows.shape"
   ]
  },
  {
   "cell_type": "code",
   "execution_count": 4,
   "metadata": {},
   "outputs": [],
   "source": [
    "# Get affine transform for pixel centres\n",
    "T1 = T0 * Affine.translation(0.5, 0.5)"
   ]
  },
  {
   "cell_type": "code",
   "execution_count": 5,
   "metadata": {},
   "outputs": [],
   "source": [
    "# Function to convert pixel row/column index (from 0) to easting/northing at centre\n",
    "rc2en = lambda r, c: (c, r) * T1"
   ]
  },
  {
   "cell_type": "code",
   "execution_count": 7,
   "metadata": {},
   "outputs": [
    {
     "name": "stdout",
     "output_type": "stream",
     "text": [
      "0\n",
      "30\n",
      "60\n",
      "90\n",
      "120\n",
      "150\n",
      "180\n",
      "210\n",
      "240\n",
      "270\n",
      "300\n",
      "330\n",
      "360\n",
      "390\n",
      "420\n",
      "450\n",
      "480\n",
      "510\n",
      "540\n",
      "570\n",
      "600\n",
      "630\n",
      "660\n",
      "690\n",
      "720\n",
      "750\n",
      "780\n",
      "810\n",
      "840\n",
      "870\n",
      "900\n",
      "930\n",
      "960\n",
      "990\n",
      "1020\n",
      "1050\n",
      "1080\n",
      "1110\n",
      "1140\n",
      "1170\n",
      "1200\n",
      "1230\n",
      "1260\n",
      "1290\n",
      "1320\n",
      "1350\n",
      "1380\n",
      "1410\n",
      "1440\n",
      "1470\n",
      "1500\n",
      "1530\n",
      "1560\n",
      "1590\n",
      "1620\n",
      "1650\n",
      "1680\n",
      "1710\n",
      "1740\n",
      "1770\n",
      "1800\n",
      "1830\n",
      "1860\n",
      "1890\n",
      "1920\n",
      "1950\n",
      "1980\n",
      "2010\n",
      "2040\n",
      "2070\n",
      "2100\n",
      "2130\n",
      "2160\n",
      "2190\n",
      "2220\n",
      "2250\n",
      "2280\n",
      "2310\n",
      "2340\n",
      "2370\n",
      "2400\n",
      "2430\n",
      "2460\n",
      "2490\n",
      "2520\n",
      "2550\n",
      "2580\n",
      "2610\n",
      "2640\n",
      "2670\n",
      "2700\n",
      "2730\n",
      "2760\n",
      "2790\n",
      "2820\n",
      "2850\n",
      "2880\n",
      "2910\n",
      "2940\n",
      "2970\n",
      "3000\n",
      "3030\n",
      "3060\n",
      "3090\n",
      "3120\n",
      "3150\n",
      "3180\n",
      "3210\n",
      "3240\n",
      "3270\n",
      "3300\n",
      "3330\n",
      "3360\n",
      "3390\n",
      "3420\n",
      "3450\n",
      "3480\n",
      "3510\n",
      "3540\n",
      "3570\n",
      "3600\n",
      "3630\n",
      "3660\n",
      "3690\n",
      "3720\n",
      "3750\n",
      "3780\n",
      "3810\n",
      "3840\n",
      "3870\n",
      "3900\n",
      "3930\n",
      "3960\n",
      "3990\n",
      "4020\n",
      "4050\n",
      "4080\n",
      "4110\n",
      "4140\n",
      "4170\n",
      "4200\n",
      "4230\n",
      "4260\n",
      "4290\n",
      "4320\n",
      "4350\n",
      "4380\n",
      "4410\n",
      "4440\n",
      "4470\n",
      "4500\n",
      "4530\n",
      "4560\n",
      "4590\n",
      "4620\n",
      "4650\n",
      "4680\n",
      "4710\n",
      "4740\n",
      "4770\n",
      "4800\n",
      "4830\n",
      "4860\n",
      "4890\n",
      "4920\n",
      "4950\n",
      "4980\n",
      "5010\n",
      "5040\n",
      "5070\n",
      "5100\n",
      "5130\n",
      "5160\n",
      "5190\n",
      "5220\n",
      "5250\n",
      "5280\n",
      "5310\n",
      "5340\n",
      "5370\n",
      "5400\n",
      "5430\n",
      "5460\n",
      "5490\n",
      "5520\n",
      "5550\n",
      "5580\n",
      "5610\n",
      "5640\n",
      "5670\n",
      "5700\n",
      "5730\n",
      "5760\n",
      "5790\n",
      "5820\n",
      "5850\n",
      "5880\n",
      "5910\n",
      "5940\n",
      "5970\n",
      "6000\n",
      "6030\n",
      "6060\n",
      "6090\n",
      "6120\n",
      "6150\n",
      "6180\n",
      "6210\n",
      "6240\n",
      "6270\n",
      "6300\n",
      "6330\n",
      "6360\n",
      "6390\n",
      "6420\n",
      "6450\n",
      "6480\n",
      "6510\n",
      "6540\n",
      "6570\n",
      "6600\n",
      "6630\n",
      "6660\n",
      "6690\n",
      "6720\n",
      "6750\n",
      "6780\n",
      "6810\n",
      "6840\n",
      "6870\n",
      "6900\n",
      "6930\n",
      "6960\n",
      "6990\n",
      "7020\n",
      "7050\n",
      "7080\n",
      "7110\n",
      "7140\n",
      "7170\n",
      "7200\n",
      "7230\n",
      "7260\n",
      "7290\n",
      "7320\n",
      "7350\n",
      "7380\n",
      "7410\n",
      "7440\n",
      "7470\n",
      "7500\n",
      "7530\n",
      "7560\n",
      "7590\n",
      "7620\n",
      "7650\n",
      "7680\n",
      "7710\n",
      "7740\n",
      "7770\n",
      "7800\n",
      "7830\n",
      "7860\n",
      "7890\n",
      "7920\n",
      "7950\n",
      "7980\n",
      "8010\n",
      "8040\n",
      "8070\n",
      "8100\n",
      "8130\n",
      "8160\n",
      "8190\n",
      "8220\n",
      "8250\n",
      "8280\n",
      "8310\n",
      "8340\n",
      "8370\n",
      "8400\n",
      "8430\n",
      "8460\n",
      "8490\n",
      "8520\n",
      "8550\n",
      "8580\n",
      "8610\n",
      "8640\n",
      "8670\n",
      "8700\n",
      "8730\n",
      "8760\n",
      "8790\n",
      "8820\n",
      "8850\n",
      "8880\n",
      "8910\n",
      "8940\n",
      "8970\n",
      "9000\n",
      "9030\n",
      "9060\n",
      "9090\n",
      "9120\n",
      "9150\n",
      "9180\n",
      "9210\n",
      "9240\n",
      "9270\n",
      "9300\n",
      "9330\n",
      "9360\n",
      "9390\n",
      "9420\n",
      "9450\n",
      "9480\n",
      "9510\n",
      "9540\n",
      "9570\n",
      "9600\n",
      "9630\n",
      "9660\n",
      "9690\n",
      "9720\n",
      "9750\n",
      "9780\n",
      "9810\n",
      "9840\n",
      "9870\n",
      "9900\n",
      "9930\n",
      "9960\n",
      "9990\n",
      "10020\n",
      "10050\n",
      "10080\n",
      "10110\n",
      "10140\n",
      "10170\n",
      "10200\n",
      "10230\n",
      "10260\n",
      "10290\n",
      "10320\n",
      "10350\n",
      "10380\n",
      "10410\n",
      "10440\n",
      "10470\n",
      "10500\n",
      "10530\n",
      "10560\n",
      "10590\n",
      "10620\n",
      "10650\n",
      "10680\n",
      "10710\n",
      "10740\n",
      "10770\n",
      "10800\n",
      "10830\n",
      "10860\n",
      "10890\n",
      "10920\n",
      "10950\n",
      "10980\n",
      "11010\n",
      "11040\n",
      "11070\n",
      "11100\n",
      "11130\n",
      "11160\n",
      "11190\n",
      "11220\n",
      "11250\n",
      "11280\n",
      "11310\n",
      "11340\n",
      "11370\n",
      "11400\n",
      "11430\n",
      "11460\n",
      "11490\n",
      "11520\n",
      "11550\n",
      "11580\n",
      "11610\n",
      "11640\n",
      "11670\n",
      "11700\n",
      "11730\n",
      "11760\n",
      "11790\n",
      "11820\n",
      "11850\n",
      "11880\n",
      "11910\n",
      "11940\n",
      "11970\n",
      "12000\n",
      "12030\n",
      "12060\n",
      "12090\n",
      "12120\n",
      "12150\n",
      "12180\n",
      "12210\n",
      "12240\n",
      "12270\n",
      "12300\n",
      "12330\n",
      "12360\n",
      "12390\n",
      "12420\n",
      "12450\n",
      "12480\n",
      "12510\n",
      "12540\n",
      "12570\n",
      "12600\n",
      "12630\n",
      "12660\n",
      "12690\n",
      "12720\n",
      "12750\n",
      "12780\n",
      "12810\n",
      "12840\n",
      "12870\n",
      "12900\n",
      "12930\n",
      "12960\n",
      "12990\n",
      "13020\n",
      "13050\n",
      "13080\n",
      "13110\n",
      "13140\n",
      "13170\n",
      "13200\n",
      "13230\n",
      "13260\n",
      "13290\n",
      "13320\n",
      "13350\n",
      "13380\n",
      "13410\n",
      "13440\n",
      "13470\n",
      "13500\n",
      "13530\n",
      "13560\n",
      "13590\n",
      "13620\n",
      "13650\n",
      "13680\n",
      "13710\n",
      "13740\n",
      "13770\n",
      "13800\n",
      "13830\n",
      "13860\n",
      "13890\n",
      "13920\n",
      "13950\n",
      "13980\n",
      "14010\n",
      "14040\n",
      "14070\n",
      "14100\n",
      "14130\n",
      "14160\n",
      "14190\n",
      "14220\n",
      "14250\n",
      "14280\n",
      "14310\n",
      "14340\n",
      "14370\n",
      "14400\n",
      "14430\n",
      "14460\n",
      "14490\n",
      "14520\n",
      "14550\n",
      "14580\n",
      "14610\n",
      "14640\n",
      "14670\n",
      "14700\n",
      "14730\n",
      "14760\n",
      "14790\n",
      "14820\n",
      "14850\n",
      "14880\n",
      "14910\n",
      "14940\n",
      "14970\n",
      "15000\n",
      "15030\n",
      "15060\n",
      "15090\n",
      "15120\n",
      "15150\n",
      "15180\n",
      "15210\n",
      "15240\n",
      "15270\n",
      "15300\n",
      "15330\n",
      "15360\n",
      "15390\n",
      "15420\n",
      "15450\n",
      "15480\n",
      "15510\n",
      "15540\n",
      "15570\n",
      "15600\n",
      "15630\n",
      "15660\n",
      "15690\n",
      "15720\n",
      "15750\n",
      "15780\n",
      "15810\n",
      "15840\n",
      "15870\n",
      "15900\n",
      "15930\n",
      "15960\n",
      "15990\n",
      "16020\n",
      "16050\n",
      "16080\n",
      "16110\n",
      "16140\n",
      "16170\n",
      "16200\n",
      "16230\n",
      "16260\n",
      "16290\n",
      "16320\n",
      "16350\n",
      "16380\n",
      "16410\n",
      "16440\n"
     ]
    }
   ],
   "source": [
    "east = np.array([]).reshape(0, 41616)\n",
    "north = np.array([]).reshape(0, 41616)\n",
    "n = 30\n",
    "for i in range(0, len(cols), n):\n",
    "    eastings, northings = np.vectorize(rc2en, otypes=[np.float, np.float])(rows[i:i + n], cols[i:i + n])\n",
    "    print(i)\n",
    "    east = np.concatenate((east, eastings), axis=0)\n",
    "    north = np.concatenate((north, northings), axis=0)"
   ]
  },
  {
   "cell_type": "code",
   "execution_count": 8,
   "metadata": {},
   "outputs": [
    {
     "data": {
      "text/plain": [
       "(16468, 41616)"
      ]
     },
     "execution_count": 8,
     "metadata": {},
     "output_type": "execute_result"
    }
   ],
   "source": [
    "east.shape"
   ]
  },
  {
   "cell_type": "code",
   "execution_count": 9,
   "metadata": {},
   "outputs": [
    {
     "data": {
      "text/plain": [
       "(16468, 41616)"
      ]
     },
     "execution_count": 9,
     "metadata": {},
     "output_type": "execute_result"
    }
   ],
   "source": [
    "north.shape"
   ]
  },
  {
   "cell_type": "code",
   "execution_count": 10,
   "metadata": {},
   "outputs": [],
   "source": [
    "eastings, northings = np.vectorize(rc2en, otypes=[np.float, np.float])(rows[16440:16468], cols[16440:16468])\n",
    "east = np.concatenate((east, eastings), axis=0)\n",
    "north = np.concatenate((north, northings), axis=0)"
   ]
  },
  {
   "cell_type": "code",
   "execution_count": 11,
   "metadata": {},
   "outputs": [
    {
     "name": "stdout",
     "output_type": "stream",
     "text": [
      "(16496, 41616)\n",
      "(16496, 41616)\n"
     ]
    }
   ],
   "source": [
    "print(east.shape)\n",
    "\n",
    "print(north.shape)"
   ]
  },
  {
   "cell_type": "code",
   "execution_count": 12,
   "metadata": {},
   "outputs": [],
   "source": [
    "# Project all longitudes, latitudes\n",
    "p2 = Proj(proj='latlong',datum='WGS84')\n",
    "longs, lats = transform(p1, p2, east, north)"
   ]
  },
  {
   "cell_type": "code",
   "execution_count": 15,
   "metadata": {},
   "outputs": [
    {
     "data": {
      "text/plain": [
       "(686497536,)"
      ]
     },
     "execution_count": 15,
     "metadata": {},
     "output_type": "execute_result"
    }
   ],
   "source": [
    "longs.ravel().shape"
   ]
  },
  {
   "cell_type": "code",
   "execution_count": 19,
   "metadata": {},
   "outputs": [],
   "source": [
    "import h5py\n",
    "\n",
    "f = h5py.File(\"inland_flood.h5\", \"a\")"
   ]
  },
  {
   "cell_type": "code",
   "execution_count": 20,
   "metadata": {},
   "outputs": [],
   "source": [
    "f.create_dataset('longitude', data=longs.ravel())\n",
    "f.create_dataset('latitude', data=lats.ravel())\n",
    "f.create_dataset('pixel', data=A[0].ravel())\n",
    "f.close()"
   ]
  },
  {
   "cell_type": "code",
   "execution_count": 22,
   "metadata": {},
   "outputs": [],
   "source": [
    "f = h5py.File(\"inland_flood.h5\", \"r\")\n",
    "\n",
    "list(f.keys())"
   ]
  },
  {
   "cell_type": "code",
   "execution_count": 66,
   "metadata": {},
   "outputs": [],
   "source": [
    "lat = np.array(f['latitude'])\n",
    "\n",
    "long = np.array(f['longitude'])"
   ]
  },
  {
   "cell_type": "code",
   "execution_count": 59,
   "metadata": {},
   "outputs": [],
   "source": [
    "full_pix = np.array(f['pixel'], dtype=np.float64)"
   ]
  },
  {
   "cell_type": "code",
   "execution_count": 74,
   "metadata": {},
   "outputs": [],
   "source": [
    "f.close()"
   ]
  },
  {
   "cell_type": "code",
   "execution_count": 62,
   "metadata": {},
   "outputs": [
    {
     "data": {
      "text/plain": [
       "-3.4028230607370965e+38"
      ]
     },
     "execution_count": 62,
     "metadata": {},
     "output_type": "execute_result"
    }
   ],
   "source": [
    "min(full_pix)"
   ]
  },
  {
   "cell_type": "code",
   "execution_count": 63,
   "metadata": {},
   "outputs": [
    {
     "data": {
      "text/plain": [
       "30.0"
      ]
     },
     "execution_count": 63,
     "metadata": {},
     "output_type": "execute_result"
    }
   ],
   "source": [
    "max(full_pix)"
   ]
  },
  {
   "cell_type": "markdown",
   "metadata": {},
   "source": [
    "## Do not use values < 0"
   ]
  },
  {
   "cell_type": "code",
   "execution_count": 71,
   "metadata": {},
   "outputs": [],
   "source": [
    "idx = np.where(full_pix > 0)"
   ]
  },
  {
   "cell_type": "code",
   "execution_count": 72,
   "metadata": {},
   "outputs": [
    {
     "data": {
      "text/plain": [
       "<matplotlib.collections.PathCollection at 0x7f7b797915c0>"
      ]
     },
     "execution_count": 72,
     "metadata": {},
     "output_type": "execute_result"
    },
    {
     "data": {
      "image/png": "[encoded data removed]",
      "text/plain": [
       "<Figure size 432x288 with 1 Axes>"
      ]
     },
     "metadata": {
      "needs_background": "light"
     },
     "output_type": "display_data"
    }
   ],
   "source": [
    "plt.scatter(long[idx], lat[idx])"
   ]
  },
  {
   "cell_type": "code",
   "execution_count": 73,
   "metadata": {},
   "outputs": [
    {
     "data": {
      "text/plain": [
       "(11480562,)"
      ]
     },
     "execution_count": 73,
     "metadata": {},
     "output_type": "execute_result"
    }
   ],
   "source": [
    "long[idx].shape"
   ]
  },
  {
   "cell_type": "code",
   "execution_count": 75,
   "metadata": {},
   "outputs": [],
   "source": [
    "f = h5py.File(\"inland_continent_flood.h5\", \"a\")\n",
    "f.create_dataset('longitude', data=long[idx])\n",
    "f.create_dataset('latitude', data=long[idx])\n",
    "f.create_dataset('water_level', data=full_pix[idx])\n",
    "f.close()"
   ]
  },
  {
   "cell_type": "code",
   "execution_count": 76,
   "metadata": {},
   "outputs": [],
   "source": [
    "f = h5py.File(\"inland_continent_flood.h5\", \"r\")"
   ]
  },
  {
   "cell_type": "code",
   "execution_count": 77,
   "metadata": {},
   "outputs": [
    {
     "data": {
      "text/plain": [
       "<KeysViewHDF5 ['latitude', 'longitude', 'water_level']>"
      ]
     },
     "execution_count": 77,
     "metadata": {},
     "output_type": "execute_result"
    }
   ],
   "source": [
    "f.keys()"
   ]
  }
 ],
 "metadata": {
  "kernelspec": {
   "display_name": "geo",
   "language": "python",
   "name": "geo"
  },
  "language_info": {
   "codemirror_mode": {
    "name": "ipython",
    "version": 3
   },
   "file_extension": ".py",
   "mimetype": "text/x-python",
   "name": "python",
   "nbconvert_exporter": "python",
   "pygments_lexer": "ipython3",
   "version": "3.6.8"
  }
 },
 "nbformat": 4,
 "nbformat_minor": 2
}

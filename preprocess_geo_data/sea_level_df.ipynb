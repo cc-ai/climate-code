{
 "cells": [
  {
   "cell_type": "code",
   "execution_count": 12,
   "metadata": {},
   "outputs": [],
   "source": [
    "from netCDF4 import Dataset\n",
    "import numpy as np\n",
    "import pandas as pd\n",
    "import pickle\n",
    "import matplotlib.pyplot as plt"
   ]
  },
  {
   "cell_type": "markdown",
   "metadata": {},
   "source": [
    "# Read datasets"
   ]
  },
  {
   "cell_type": "code",
   "execution_count": 2,
   "metadata": {},
   "outputs": [],
   "source": [
    "dataset = Dataset('/network/home/barinpvi/sea_level/globalTWL_baseline.nc')"
   ]
  },
  {
   "cell_type": "code",
   "execution_count": 6,
   "metadata": {},
   "outputs": [
    {
     "data": {
      "text/plain": [
       "odict_keys(['longitude', 'latitude', 'RSLR', 'TL', 'EV', 'TWL', 'percentile'])"
      ]
     },
     "execution_count": 6,
     "metadata": {},
     "output_type": "execute_result"
    }
   ],
   "source": [
    "dataset.variables.keys()"
   ]
  },
  {
   "cell_type": "code",
   "execution_count": 3,
   "metadata": {},
   "outputs": [],
   "source": [
    "def get_variables(f):\n",
    "    dataset = Dataset(f)\n",
    "\n",
    "    longitude = dataset.variables['longitude'][:]\n",
    "    latitude = dataset.variables['latitude'][:]\n",
    "    rslr = dataset.variables['RSLR'][:]\n",
    "    tl = dataset.variables['TL'][:]\n",
    "    ev = dataset.variables['EV'][:]\n",
    "    twl = dataset.variables['TWL'][:]\n",
    "    percentile = dataset.variables['percentile'][:]\n",
    "    \n",
    "    return longitude, latitude, rslr, tl, ev, twl, percentile"
   ]
  },
  {
   "cell_type": "code",
   "execution_count": 4,
   "metadata": {},
   "outputs": [],
   "source": [
    "longitude, latitude, rslr, tl, ev, twl, percentile = get_variables('/network/home/barinpvi/sea_level/globalTWL_baseline.nc')"
   ]
  },
  {
   "cell_type": "code",
   "execution_count": 5,
   "metadata": {},
   "outputs": [],
   "source": [
    "longitude_45, latitude_45, rslr_45, tl_45, ev_45, twl_45, percentile_45 = get_variables('/network/home/barinpvi/sea_level/globalTWL_RCP45.nc')"
   ]
  },
  {
   "cell_type": "code",
   "execution_count": 6,
   "metadata": {},
   "outputs": [],
   "source": [
    "longitude_85, latitude_85, rslr_85, tl_85, ev_85, twl_85, percentile_85 = get_variables('/network/home/barinpvi/sea_level/globalTWL_RCP85.nc')"
   ]
  },
  {
   "cell_type": "code",
   "execution_count": 22,
   "metadata": {},
   "outputs": [],
   "source": [
    "rel_45_2100 = twl_45[:, 1, 9] - twl[:, 1] # unity: meters "
   ]
  },
  {
   "cell_type": "code",
   "execution_count": 32,
   "metadata": {},
   "outputs": [],
   "source": [
    "rel_45_2050 = twl_45[:, 1, 4] - twl[:, 1] # unity: meters "
   ]
  },
  {
   "cell_type": "code",
   "execution_count": 33,
   "metadata": {},
   "outputs": [],
   "source": [
    "rel_85_2100 = twl_85[:, 1, 9] - twl[:, 1] # unity: meters "
   ]
  },
  {
   "cell_type": "code",
   "execution_count": 34,
   "metadata": {},
   "outputs": [],
   "source": [
    "rel_85_2050 = twl_85[:, 1, 4] - twl[:, 1] # unity: meters "
   ]
  },
  {
   "cell_type": "code",
   "execution_count": 52,
   "metadata": {},
   "outputs": [
    {
     "data": {
      "text/plain": [
       "(array([2304., 6226., 5454., 3859., 1805.,  759.,  275.,  160.,    9.,\n",
       "          14.]),\n",
       " array([0.80357906, 1.62081561, 2.43805216, 3.25528872, 4.07252527,\n",
       "        4.88976182, 5.70699837, 6.52423492, 7.34147147, 8.15870803,\n",
       "        8.97594458]),\n",
       " <a list of 10 Patch objects>)"
      ]
     },
     "execution_count": 52,
     "metadata": {},
     "output_type": "execute_result"
    },
    {
     "data": {
      "image/png": "[encoded data removed]",
      "text/plain": [
       "<Figure size 432x288 with 1 Axes>"
      ]
     },
     "metadata": {
      "needs_background": "light"
     },
     "output_type": "display_data"
    }
   ],
   "source": [
    "plt.hist(twl_45[:, 1, 9])"
   ]
  },
  {
   "cell_type": "code",
   "execution_count": 53,
   "metadata": {},
   "outputs": [
    {
     "data": {
      "text/plain": [
       "(array([2612., 6440., 5540., 3553., 1636.,  693.,  285.,   79.,   13.,\n",
       "          14.]),\n",
       " array([0.33446589, 1.15094962, 1.96743336, 2.78391709, 3.60040083,\n",
       "        4.41688456, 5.2333683 , 6.04985203, 6.86633577, 7.6828195 ,\n",
       "        8.49930324]),\n",
       " <a list of 10 Patch objects>)"
      ]
     },
     "execution_count": 53,
     "metadata": {},
     "output_type": "execute_result"
    },
    {
     "data": {
      "image/png": "[encoded data removed]",
      "text/plain": [
       "<Figure size 432x288 with 1 Axes>"
      ]
     },
     "metadata": {
      "needs_background": "light"
     },
     "output_type": "display_data"
    }
   ],
   "source": [
    "plt.hist(twl[:, 1])"
   ]
  },
  {
   "cell_type": "code",
   "execution_count": 23,
   "metadata": {},
   "outputs": [
    {
     "data": {
      "text/plain": [
       "(array([6.3000e+01, 3.8000e+01, 3.4000e+01, 3.1300e+02, 4.9730e+03,\n",
       "        1.3689e+04, 1.6200e+03, 1.1700e+02, 9.0000e+00, 9.0000e+00]),\n",
       " array([-0.43278052, -0.24729562, -0.06181073,  0.12367417,  0.30915906,\n",
       "         0.49464395,  0.68012885,  0.86561374,  1.05109864,  1.23658353,\n",
       "         1.42206842]),\n",
       " <a list of 10 Patch objects>)"
      ]
     },
     "execution_count": 23,
     "metadata": {},
     "output_type": "execute_result"
    },
    {
     "data": {
      "image/png": "[encoded data removed]",
      "text/plain": [
       "<Figure size 432x288 with 1 Axes>"
      ]
     },
     "metadata": {
      "needs_background": "light"
     },
     "output_type": "display_data"
    }
   ],
   "source": [
    "plt.hist(rel_45_2100)"
   ]
  },
  {
   "cell_type": "code",
   "execution_count": 28,
   "metadata": {},
   "outputs": [],
   "source": [
    "# Check that lats and lons are the same for all datasets"
   ]
  },
  {
   "cell_type": "code",
   "execution_count": 41,
   "metadata": {},
   "outputs": [
    {
     "data": {
      "text/plain": [
       "(array([], dtype=int64),)"
      ]
     },
     "execution_count": 41,
     "metadata": {},
     "output_type": "execute_result"
    }
   ],
   "source": [
    "np.where(latitude != latitude_45)"
   ]
  },
  {
   "cell_type": "code",
   "execution_count": 42,
   "metadata": {},
   "outputs": [],
   "source": [
    "d = {'longitude': longitude, 'latitude': latitude, 'twl_4.5_2050': rel_45_2050, 'twl_4.5_2100': rel_45_2100, 'twl_8.5_2050': rel_85_2050, 'twl_8.5_2100': rel_85_2100}"
   ]
  },
  {
   "cell_type": "code",
   "execution_count": 43,
   "metadata": {},
   "outputs": [],
   "source": [
    "df = pd.DataFrame(data=d)"
   ]
  },
  {
   "cell_type": "code",
   "execution_count": 45,
   "metadata": {},
   "outputs": [
    {
     "data": {
      "text/html": [
       "<div>\n",
       "<style scoped>\n",
       "    .dataframe tbody tr th:only-of-type {\n",
       "        vertical-align: middle;\n",
       "    }\n",
       "\n",
       "    .dataframe tbody tr th {\n",
       "        vertical-align: top;\n",
       "    }\n",
       "\n",
       "    .dataframe thead th {\n",
       "        text-align: right;\n",
       "    }\n",
       "</style>\n",
       "<table border=\"1\" class=\"dataframe\">\n",
       "  <thead>\n",
       "    <tr style=\"text-align: right;\">\n",
       "      <th></th>\n",
       "      <th>longitude</th>\n",
       "      <th>latitude</th>\n",
       "      <th>twl_4.5_2050</th>\n",
       "      <th>twl_4.5_2100</th>\n",
       "      <th>twl_8.5_2050</th>\n",
       "      <th>twl_8.5_2100</th>\n",
       "    </tr>\n",
       "  </thead>\n",
       "  <tbody>\n",
       "    <tr>\n",
       "      <th>0</th>\n",
       "      <td>180.000000</td>\n",
       "      <td>-16.152930</td>\n",
       "      <td>0.074617</td>\n",
       "      <td>0.421424</td>\n",
       "      <td>0.280209</td>\n",
       "      <td>0.998572</td>\n",
       "    </tr>\n",
       "    <tr>\n",
       "      <th>1</th>\n",
       "      <td>179.762811</td>\n",
       "      <td>-16.216590</td>\n",
       "      <td>0.074617</td>\n",
       "      <td>0.421424</td>\n",
       "      <td>0.280209</td>\n",
       "      <td>0.998572</td>\n",
       "    </tr>\n",
       "    <tr>\n",
       "      <th>2</th>\n",
       "      <td>179.523658</td>\n",
       "      <td>-16.266118</td>\n",
       "      <td>0.074617</td>\n",
       "      <td>0.421424</td>\n",
       "      <td>0.280209</td>\n",
       "      <td>0.998572</td>\n",
       "    </tr>\n",
       "    <tr>\n",
       "      <th>3</th>\n",
       "      <td>179.311343</td>\n",
       "      <td>-16.393551</td>\n",
       "      <td>0.131297</td>\n",
       "      <td>0.466664</td>\n",
       "      <td>0.283337</td>\n",
       "      <td>0.995813</td>\n",
       "    </tr>\n",
       "    <tr>\n",
       "      <th>4</th>\n",
       "      <td>179.067616</td>\n",
       "      <td>-16.445738</td>\n",
       "      <td>0.172086</td>\n",
       "      <td>0.514159</td>\n",
       "      <td>0.292090</td>\n",
       "      <td>1.008119</td>\n",
       "    </tr>\n",
       "  </tbody>\n",
       "</table>\n",
       "</div>"
      ],
      "text/plain": [
       "    longitude   latitude  twl_4.5_2050  twl_4.5_2100  twl_8.5_2050  \\\n",
       "0  180.000000 -16.152930      0.074617      0.421424      0.280209   \n",
       "1  179.762811 -16.216590      0.074617      0.421424      0.280209   \n",
       "2  179.523658 -16.266118      0.074617      0.421424      0.280209   \n",
       "3  179.311343 -16.393551      0.131297      0.466664      0.283337   \n",
       "4  179.067616 -16.445738      0.172086      0.514159      0.292090   \n",
       "\n",
       "   twl_8.5_2100  \n",
       "0      0.998572  \n",
       "1      0.998572  \n",
       "2      0.998572  \n",
       "3      0.995813  \n",
       "4      1.008119  "
      ]
     },
     "execution_count": 45,
     "metadata": {},
     "output_type": "execute_result"
    }
   ],
   "source": [
    "df.head()"
   ]
  },
  {
   "cell_type": "code",
   "execution_count": 7,
   "metadata": {},
   "outputs": [],
   "source": [
    "d_total = {'longitude': longitude, 'latitude': latitude, 'twl_4.5_2050': twl_45[:, 1, 4], 'twl_4.5_2100': twl_45[:, 1, 9], 'twl_8.5_2050': twl_85[:, 1, 4], 'twl_8.5_2100': twl_85[:, 1, 9]}"
   ]
  },
  {
   "cell_type": "code",
   "execution_count": 10,
   "metadata": {},
   "outputs": [],
   "source": [
    "df_total = pd.DataFrame(data=d_total)"
   ]
  },
  {
   "cell_type": "code",
   "execution_count": 15,
   "metadata": {},
   "outputs": [
    {
     "data": {
      "text/html": [
       "<div>\n",
       "<style scoped>\n",
       "    .dataframe tbody tr th:only-of-type {\n",
       "        vertical-align: middle;\n",
       "    }\n",
       "\n",
       "    .dataframe tbody tr th {\n",
       "        vertical-align: top;\n",
       "    }\n",
       "\n",
       "    .dataframe thead th {\n",
       "        text-align: right;\n",
       "    }\n",
       "</style>\n",
       "<table border=\"1\" class=\"dataframe\">\n",
       "  <thead>\n",
       "    <tr style=\"text-align: right;\">\n",
       "      <th></th>\n",
       "      <th>longitude</th>\n",
       "      <th>latitude</th>\n",
       "      <th>twl_4.5_2050</th>\n",
       "      <th>twl_4.5_2100</th>\n",
       "      <th>twl_8.5_2050</th>\n",
       "      <th>twl_8.5_2100</th>\n",
       "    </tr>\n",
       "  </thead>\n",
       "  <tbody>\n",
       "    <tr>\n",
       "      <th>0</th>\n",
       "      <td>180.000000</td>\n",
       "      <td>-16.152930</td>\n",
       "      <td>2.408321</td>\n",
       "      <td>2.755128</td>\n",
       "      <td>2.613913</td>\n",
       "      <td>3.332276</td>\n",
       "    </tr>\n",
       "    <tr>\n",
       "      <th>1</th>\n",
       "      <td>179.762811</td>\n",
       "      <td>-16.216590</td>\n",
       "      <td>2.408321</td>\n",
       "      <td>2.755128</td>\n",
       "      <td>2.613913</td>\n",
       "      <td>3.332276</td>\n",
       "    </tr>\n",
       "    <tr>\n",
       "      <th>2</th>\n",
       "      <td>179.523658</td>\n",
       "      <td>-16.266118</td>\n",
       "      <td>2.408321</td>\n",
       "      <td>2.755128</td>\n",
       "      <td>2.613913</td>\n",
       "      <td>3.332276</td>\n",
       "    </tr>\n",
       "    <tr>\n",
       "      <th>3</th>\n",
       "      <td>179.311343</td>\n",
       "      <td>-16.393551</td>\n",
       "      <td>2.430962</td>\n",
       "      <td>2.766329</td>\n",
       "      <td>2.583002</td>\n",
       "      <td>3.295478</td>\n",
       "    </tr>\n",
       "    <tr>\n",
       "      <th>4</th>\n",
       "      <td>179.067616</td>\n",
       "      <td>-16.445738</td>\n",
       "      <td>2.528641</td>\n",
       "      <td>2.870714</td>\n",
       "      <td>2.648645</td>\n",
       "      <td>3.364674</td>\n",
       "    </tr>\n",
       "  </tbody>\n",
       "</table>\n",
       "</div>"
      ],
      "text/plain": [
       "    longitude   latitude  twl_4.5_2050  twl_4.5_2100  twl_8.5_2050  \\\n",
       "0  180.000000 -16.152930      2.408321      2.755128      2.613913   \n",
       "1  179.762811 -16.216590      2.408321      2.755128      2.613913   \n",
       "2  179.523658 -16.266118      2.408321      2.755128      2.613913   \n",
       "3  179.311343 -16.393551      2.430962      2.766329      2.583002   \n",
       "4  179.067616 -16.445738      2.528641      2.870714      2.648645   \n",
       "\n",
       "   twl_8.5_2100  \n",
       "0      3.332276  \n",
       "1      3.332276  \n",
       "2      3.332276  \n",
       "3      3.295478  \n",
       "4      3.364674  "
      ]
     },
     "execution_count": 15,
     "metadata": {},
     "output_type": "execute_result"
    }
   ],
   "source": [
    "df_total.head()"
   ]
  },
  {
   "cell_type": "markdown",
   "metadata": {},
   "source": [
    "# Save dataframe to pickle file"
   ]
  },
  {
   "cell_type": "code",
   "execution_count": 49,
   "metadata": {},
   "outputs": [],
   "source": [
    "outfile = open('sea_level.pkl','wb')\n",
    "\n",
    "pickle.dump(df, outfile)\n",
    "outfile.close()"
   ]
  },
  {
   "cell_type": "code",
   "execution_count": 24,
   "metadata": {},
   "outputs": [],
   "source": [
    "def savePickle(f_name, df):\n",
    "    outfile = open(f_name,'wb')\n",
    "\n",
    "    pickle.dump(df, outfile)\n",
    "    outfile.close()"
   ]
  },
  {
   "cell_type": "code",
   "execution_count": 25,
   "metadata": {},
   "outputs": [],
   "source": [
    "savePickle(\"absolute_sea_level.pkl\", df_total)"
   ]
  },
  {
   "cell_type": "markdown",
   "metadata": {},
   "source": [
    "# Read pickle file"
   ]
  },
  {
   "cell_type": "code",
   "execution_count": 26,
   "metadata": {},
   "outputs": [],
   "source": [
    "infile = open('absolute_sea_level.pkl','rb')\n",
    "new_dict = pickle.load(infile)"
   ]
  },
  {
   "cell_type": "code",
   "execution_count": 27,
   "metadata": {},
   "outputs": [
    {
     "data": {
      "text/html": [
       "<div>\n",
       "<style scoped>\n",
       "    .dataframe tbody tr th:only-of-type {\n",
       "        vertical-align: middle;\n",
       "    }\n",
       "\n",
       "    .dataframe tbody tr th {\n",
       "        vertical-align: top;\n",
       "    }\n",
       "\n",
       "    .dataframe thead th {\n",
       "        text-align: right;\n",
       "    }\n",
       "</style>\n",
       "<table border=\"1\" class=\"dataframe\">\n",
       "  <thead>\n",
       "    <tr style=\"text-align: right;\">\n",
       "      <th></th>\n",
       "      <th>longitude</th>\n",
       "      <th>latitude</th>\n",
       "      <th>twl_4.5_2050</th>\n",
       "      <th>twl_4.5_2100</th>\n",
       "      <th>twl_8.5_2050</th>\n",
       "      <th>twl_8.5_2100</th>\n",
       "    </tr>\n",
       "  </thead>\n",
       "  <tbody>\n",
       "    <tr>\n",
       "      <th>0</th>\n",
       "      <td>180.000000</td>\n",
       "      <td>-16.152930</td>\n",
       "      <td>2.408321</td>\n",
       "      <td>2.755128</td>\n",
       "      <td>2.613913</td>\n",
       "      <td>3.332276</td>\n",
       "    </tr>\n",
       "    <tr>\n",
       "      <th>1</th>\n",
       "      <td>179.762811</td>\n",
       "      <td>-16.216590</td>\n",
       "      <td>2.408321</td>\n",
       "      <td>2.755128</td>\n",
       "      <td>2.613913</td>\n",
       "      <td>3.332276</td>\n",
       "    </tr>\n",
       "    <tr>\n",
       "      <th>2</th>\n",
       "      <td>179.523658</td>\n",
       "      <td>-16.266118</td>\n",
       "      <td>2.408321</td>\n",
       "      <td>2.755128</td>\n",
       "      <td>2.613913</td>\n",
       "      <td>3.332276</td>\n",
       "    </tr>\n",
       "    <tr>\n",
       "      <th>3</th>\n",
       "      <td>179.311343</td>\n",
       "      <td>-16.393551</td>\n",
       "      <td>2.430962</td>\n",
       "      <td>2.766329</td>\n",
       "      <td>2.583002</td>\n",
       "      <td>3.295478</td>\n",
       "    </tr>\n",
       "    <tr>\n",
       "      <th>4</th>\n",
       "      <td>179.067616</td>\n",
       "      <td>-16.445738</td>\n",
       "      <td>2.528641</td>\n",
       "      <td>2.870714</td>\n",
       "      <td>2.648645</td>\n",
       "      <td>3.364674</td>\n",
       "    </tr>\n",
       "  </tbody>\n",
       "</table>\n",
       "</div>"
      ],
      "text/plain": [
       "    longitude   latitude  twl_4.5_2050  twl_4.5_2100  twl_8.5_2050  \\\n",
       "0  180.000000 -16.152930      2.408321      2.755128      2.613913   \n",
       "1  179.762811 -16.216590      2.408321      2.755128      2.613913   \n",
       "2  179.523658 -16.266118      2.408321      2.755128      2.613913   \n",
       "3  179.311343 -16.393551      2.430962      2.766329      2.583002   \n",
       "4  179.067616 -16.445738      2.528641      2.870714      2.648645   \n",
       "\n",
       "   twl_8.5_2100  \n",
       "0      3.332276  \n",
       "1      3.332276  \n",
       "2      3.332276  \n",
       "3      3.295478  \n",
       "4      3.364674  "
      ]
     },
     "execution_count": 27,
     "metadata": {},
     "output_type": "execute_result"
    }
   ],
   "source": [
    "new_dict.head()"
   ]
  }
 ],
 "metadata": {
  "kernelspec": {
   "display_name": "geo",
   "language": "python",
   "name": "geo"
  },
  "language_info": {
   "codemirror_mode": {
    "name": "ipython",
    "version": 3
   },
   "file_extension": ".py",
   "mimetype": "text/x-python",
   "name": "python",
   "nbconvert_exporter": "python",
   "pygments_lexer": "ipython3",
   "version": "3.6.8"
  }
 },
 "nbformat": 4,
 "nbformat_minor": 2
}

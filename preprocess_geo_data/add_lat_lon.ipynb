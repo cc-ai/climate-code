{
 "cells": [
  {
   "cell_type": "code",
   "execution_count": 6,
   "metadata": {},
   "outputs": [],
   "source": [
    "import pandas as pd"
   ]
  },
  {
   "cell_type": "code",
   "execution_count": 7,
   "metadata": {},
   "outputs": [],
   "source": [
    "info = pd.read_csv('/network/tmp1/barinpvi/data/canopex/CANOPEX_ENVCAN_ASCII/CANOPEX_ENVCAN.txt', \n",
    "                   header=None, delimiter='\\t', \n",
    "                   names=['lat', 'lon', 'hydrosheds_area', 'station1', 'station2', 'province', 'station_id', 'river'])"
   ]
  },
  {
   "cell_type": "code",
   "execution_count": 8,
   "metadata": {},
   "outputs": [
    {
     "data": {
      "text/html": [
       "<div>\n",
       "<style scoped>\n",
       "    .dataframe tbody tr th:only-of-type {\n",
       "        vertical-align: middle;\n",
       "    }\n",
       "\n",
       "    .dataframe tbody tr th {\n",
       "        vertical-align: top;\n",
       "    }\n",
       "\n",
       "    .dataframe thead th {\n",
       "        text-align: right;\n",
       "    }\n",
       "</style>\n",
       "<table border=\"1\" class=\"dataframe\">\n",
       "  <thead>\n",
       "    <tr style=\"text-align: right;\">\n",
       "      <th></th>\n",
       "      <th>lat</th>\n",
       "      <th>lon</th>\n",
       "      <th>hydrosheds_area</th>\n",
       "      <th>station1</th>\n",
       "      <th>station2</th>\n",
       "      <th>province</th>\n",
       "      <th>station_id</th>\n",
       "      <th>river</th>\n",
       "    </tr>\n",
       "  </thead>\n",
       "  <tbody>\n",
       "    <tr>\n",
       "      <th>1</th>\n",
       "      <td>-104.7358</td>\n",
       "      <td>55.6475</td>\n",
       "      <td>114248.00</td>\n",
       "      <td>10X1963</td>\n",
       "      <td>12X2012</td>\n",
       "      <td>SK</td>\n",
       "      <td>06CD002</td>\n",
       "      <td>CHURCHILL RIVER ABOVE OTTER RAPIDS</td>\n",
       "    </tr>\n",
       "    <tr>\n",
       "      <th>2</th>\n",
       "      <td>-96.6090</td>\n",
       "      <td>49.6436</td>\n",
       "      <td>702.09</td>\n",
       "      <td>03X1964</td>\n",
       "      <td>12X2012</td>\n",
       "      <td>MB</td>\n",
       "      <td>05OH007</td>\n",
       "      <td>SEINE RIVER NEAR STE. ANNE</td>\n",
       "    </tr>\n",
       "    <tr>\n",
       "      <th>3</th>\n",
       "      <td>-128.1508</td>\n",
       "      <td>59.9508</td>\n",
       "      <td>9148.05</td>\n",
       "      <td>01X1951</td>\n",
       "      <td>12X1993</td>\n",
       "      <td>BC</td>\n",
       "      <td>10AD001</td>\n",
       "      <td>HYLAND RIVER NEAR LOWER POST</td>\n",
       "    </tr>\n",
       "    <tr>\n",
       "      <th>4</th>\n",
       "      <td>-126.9506</td>\n",
       "      <td>59.6914</td>\n",
       "      <td>8775.39</td>\n",
       "      <td>08X1961</td>\n",
       "      <td>03X1995</td>\n",
       "      <td>BC</td>\n",
       "      <td>10BC001</td>\n",
       "      <td>COAL RIVER AT THE MOUTH</td>\n",
       "    </tr>\n",
       "    <tr>\n",
       "      <th>5</th>\n",
       "      <td>-134.3325</td>\n",
       "      <td>59.9478</td>\n",
       "      <td>895.43</td>\n",
       "      <td>07X1956</td>\n",
       "      <td>12X2012</td>\n",
       "      <td>BC</td>\n",
       "      <td>09AA013</td>\n",
       "      <td>TUTSHI RIVER AT OUTLET OF TUTSHI LAKE</td>\n",
       "    </tr>\n",
       "  </tbody>\n",
       "</table>\n",
       "</div>"
      ],
      "text/plain": [
       "        lat      lon  hydrosheds_area station1 station2 province station_id  \\\n",
       "1 -104.7358  55.6475        114248.00  10X1963  12X2012       SK    06CD002   \n",
       "2  -96.6090  49.6436           702.09  03X1964  12X2012       MB    05OH007   \n",
       "3 -128.1508  59.9508          9148.05  01X1951  12X1993       BC    10AD001   \n",
       "4 -126.9506  59.6914          8775.39  08X1961  03X1995       BC    10BC001   \n",
       "5 -134.3325  59.9478           895.43  07X1956  12X2012       BC    09AA013   \n",
       "\n",
       "                                   river  \n",
       "1     CHURCHILL RIVER ABOVE OTTER RAPIDS  \n",
       "2             SEINE RIVER NEAR STE. ANNE  \n",
       "3           HYLAND RIVER NEAR LOWER POST  \n",
       "4                COAL RIVER AT THE MOUTH  \n",
       "5  TUTSHI RIVER AT OUTLET OF TUTSHI LAKE  "
      ]
     },
     "execution_count": 8,
     "metadata": {},
     "output_type": "execute_result"
    }
   ],
   "source": [
    "info.head()"
   ]
  },
  {
   "cell_type": "code",
   "execution_count": 4,
   "metadata": {},
   "outputs": [],
   "source": [
    "dir_name = '/network/tmp1/barinpvi/data/canopex_csv/*.csv'"
   ]
  },
  {
   "cell_type": "code",
   "execution_count": 2,
   "metadata": {},
   "outputs": [],
   "source": [
    "import glob"
   ]
  },
  {
   "cell_type": "code",
   "execution_count": null,
   "metadata": {},
   "outputs": [],
   "source": [
    "for f in glob.glob(dir_name):\n",
    "    f_name = f.split('/')[-1].split('.')[0]\n",
    "    #print(f)\n",
    "    print(f_name)\n",
    "    lat = info.loc[int(f_name), 'lon']\n",
    "    lon = info.loc[int(f_name), 'lat']\n",
    "    \n",
    "    df = pd.read_csv('/network/tmp1/barinpvi/data/canopex_csv/'+f_name+'.csv')\n",
    "    if (df.empty):\n",
    "        pass\n",
    "    df['lat'] = lat\n",
    "    df['lon'] = lon\n",
    "    \n",
    "    #print(df.head())\n",
    "    df.to_csv('/network/tmp1/barinpvi/data/preprocessed_canopex_envcan/'+f_name+'.csv', index=False)"
   ]
  },
  {
   "cell_type": "code",
   "execution_count": 37,
   "metadata": {},
   "outputs": [],
   "source": [
    "df1 = pd.read_csv('/network/tmp1/barinpvi/data/preprocessed_canopex_envcan/100.csv')"
   ]
  },
  {
   "cell_type": "code",
   "execution_count": 38,
   "metadata": {},
   "outputs": [
    {
     "data": {
      "text/html": [
       "<div>\n",
       "<style scoped>\n",
       "    .dataframe tbody tr th:only-of-type {\n",
       "        vertical-align: middle;\n",
       "    }\n",
       "\n",
       "    .dataframe tbody tr th {\n",
       "        vertical-align: top;\n",
       "    }\n",
       "\n",
       "    .dataframe thead th {\n",
       "        text-align: right;\n",
       "    }\n",
       "</style>\n",
       "<table border=\"1\" class=\"dataframe\">\n",
       "  <thead>\n",
       "    <tr style=\"text-align: right;\">\n",
       "      <th></th>\n",
       "      <th>date</th>\n",
       "      <th>precip</th>\n",
       "      <th>evap</th>\n",
       "      <th>discharge</th>\n",
       "      <th>max_temp</th>\n",
       "      <th>min_temp</th>\n",
       "      <th>lat</th>\n",
       "      <th>lon</th>\n",
       "    </tr>\n",
       "  </thead>\n",
       "  <tbody>\n",
       "    <tr>\n",
       "      <th>0</th>\n",
       "      <td>1968-02-01</td>\n",
       "      <td>5.9554</td>\n",
       "      <td>NaN</td>\n",
       "      <td>NaN</td>\n",
       "      <td>-29.1428</td>\n",
       "      <td>-32.9766</td>\n",
       "      <td>54.752</td>\n",
       "      <td>-117.2057</td>\n",
       "    </tr>\n",
       "    <tr>\n",
       "      <th>1</th>\n",
       "      <td>1968-02-02</td>\n",
       "      <td>7.8870</td>\n",
       "      <td>NaN</td>\n",
       "      <td>NaN</td>\n",
       "      <td>-29.8786</td>\n",
       "      <td>-31.8214</td>\n",
       "      <td>54.752</td>\n",
       "      <td>-117.2057</td>\n",
       "    </tr>\n",
       "    <tr>\n",
       "      <th>2</th>\n",
       "      <td>1968-02-03</td>\n",
       "      <td>4.2104</td>\n",
       "      <td>NaN</td>\n",
       "      <td>NaN</td>\n",
       "      <td>-13.9552</td>\n",
       "      <td>-36.3428</td>\n",
       "      <td>54.752</td>\n",
       "      <td>-117.2057</td>\n",
       "    </tr>\n",
       "    <tr>\n",
       "      <th>3</th>\n",
       "      <td>1968-02-04</td>\n",
       "      <td>0.0000</td>\n",
       "      <td>NaN</td>\n",
       "      <td>NaN</td>\n",
       "      <td>2.4909</td>\n",
       "      <td>-30.9786</td>\n",
       "      <td>54.752</td>\n",
       "      <td>-117.2057</td>\n",
       "    </tr>\n",
       "    <tr>\n",
       "      <th>4</th>\n",
       "      <td>1968-02-05</td>\n",
       "      <td>0.0000</td>\n",
       "      <td>NaN</td>\n",
       "      <td>NaN</td>\n",
       "      <td>0.6552</td>\n",
       "      <td>-24.4662</td>\n",
       "      <td>54.752</td>\n",
       "      <td>-117.2057</td>\n",
       "    </tr>\n",
       "  </tbody>\n",
       "</table>\n",
       "</div>"
      ],
      "text/plain": [
       "         date  precip  evap  discharge  max_temp  min_temp     lat       lon\n",
       "0  1968-02-01  5.9554   NaN        NaN  -29.1428  -32.9766  54.752 -117.2057\n",
       "1  1968-02-02  7.8870   NaN        NaN  -29.8786  -31.8214  54.752 -117.2057\n",
       "2  1968-02-03  4.2104   NaN        NaN  -13.9552  -36.3428  54.752 -117.2057\n",
       "3  1968-02-04  0.0000   NaN        NaN    2.4909  -30.9786  54.752 -117.2057\n",
       "4  1968-02-05  0.0000   NaN        NaN    0.6552  -24.4662  54.752 -117.2057"
      ]
     },
     "execution_count": 38,
     "metadata": {},
     "output_type": "execute_result"
    }
   ],
   "source": [
    "df1.head()"
   ]
  },
  {
   "cell_type": "code",
   "execution_count": null,
   "metadata": {},
   "outputs": [],
   "source": []
  }
 ],
 "metadata": {
  "kernelspec": {
   "display_name": "geo",
   "language": "python",
   "name": "geo"
  },
  "language_info": {
   "codemirror_mode": {
    "name": "ipython",
    "version": 3
   },
   "file_extension": ".py",
   "mimetype": "text/x-python",
   "name": "python",
   "nbconvert_exporter": "python",
   "pygments_lexer": "ipython3",
   "version": "3.6.9"
  }
 },
 "nbformat": 4,
 "nbformat_minor": 2
}
